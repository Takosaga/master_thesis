{
 "cells": [
  {
   "cell_type": "markdown",
   "id": "1daf31cd",
   "metadata": {},
   "source": [
    "# Single Samples"
   ]
  },
  {
   "cell_type": "markdown",
   "id": "59cf7ee6",
   "metadata": {},
   "source": [
    "Samples of [53812, 15185, 38012, 18694] for visuals from previous notebook. Colab settings to be done"
   ]
  },
  {
   "cell_type": "code",
   "execution_count": null,
   "id": "68fe1186",
   "metadata": {},
   "outputs": [],
   "source": [
    "#%pip install lime shap hf_xet"
   ]
  },
  {
   "cell_type": "code",
   "execution_count": null,
   "id": "db4f9750",
   "metadata": {},
   "outputs": [
    {
     "name": "stderr",
     "output_type": "stream",
     "text": [
      "2025-05-16 19:56:34.533489: I tensorflow/tsl/cuda/cudart_stub.cc:28] Could not find cuda drivers on your machine, GPU will not be used.\n",
      "2025-05-16 19:56:34.560927: E tensorflow/compiler/xla/stream_executor/cuda/cuda_dnn.cc:9342] Unable to register cuDNN factory: Attempting to register factory for plugin cuDNN when one has already been registered\n",
      "2025-05-16 19:56:34.560958: E tensorflow/compiler/xla/stream_executor/cuda/cuda_fft.cc:609] Unable to register cuFFT factory: Attempting to register factory for plugin cuFFT when one has already been registered\n",
      "2025-05-16 19:56:34.560987: E tensorflow/compiler/xla/stream_executor/cuda/cuda_blas.cc:1518] Unable to register cuBLAS factory: Attempting to register factory for plugin cuBLAS when one has already been registered\n",
      "2025-05-16 19:56:34.567691: I tensorflow/core/platform/cpu_feature_guard.cc:182] This TensorFlow binary is optimized to use available CPU instructions in performance-critical operations.\n",
      "To enable the following instructions: AVX2 FMA, in other operations, rebuild TensorFlow with the appropriate compiler flags.\n",
      "2025-05-16 19:56:35.266011: W tensorflow/compiler/tf2tensorrt/utils/py_utils.cc:38] TF-TRT Warning: Could not find TensorRT\n"
     ]
    }
   ],
   "source": [
    "import numpy as np\n",
    "import pandas as pd\n",
    "import matplotlib.pyplot as plt\n",
    "import random\n",
    "import torch\n",
    "from transformers import pipeline, AutoTokenizer\n",
    "import lime\n",
    "from lime.lime_text import LimeTextExplainer\n",
    "import shap\n",
    "import os\n",
    "from typing import List, Union\n"
   ]
  },
  {
   "cell_type": "code",
   "execution_count": 6,
   "id": "c7fecc56",
   "metadata": {},
   "outputs": [],
   "source": [
    "def set_seed(seed_value):\n",
    "    \"\"\"Set seed for reproducibility.\"\"\"\n",
    "    random.seed(seed_value)\n",
    "    np.random.seed(seed_value)\n",
    "    torch.manual_seed(seed_value)\n",
    "    if torch.cuda.is_available():\n",
    "        torch.cuda.manual_seed(seed_value)\n",
    "        # Optional: for determinism with CuDNN\n",
    "        torch.backends.cudnn.deterministic = True"
   ]
  },
  {
   "cell_type": "code",
   "execution_count": 4,
   "id": "1fd0924c",
   "metadata": {},
   "outputs": [],
   "source": [
    "BATCH_SIZE = 512 "
   ]
  },
  {
   "cell_type": "code",
   "execution_count": 5,
   "id": "0b8508b5",
   "metadata": {},
   "outputs": [
    {
     "name": "stdout",
     "output_type": "stream",
     "text": [
      "Loading models and tokenizers...\n"
     ]
    },
    {
     "name": "stderr",
     "output_type": "stream",
     "text": [
      "Device set to use cpu\n"
     ]
    }
   ],
   "source": [
    "print(\"Loading models and tokenizers...\")\n",
    "pipe_cardiff = pipeline(\"text-classification\",\n",
    "                       model=\"cardiffnlp/twitter-roberta-base-hate-latest\",\n",
    "                       device=0 if torch.cuda.is_available() else -1,\n",
    "                       batch_size=BATCH_SIZE)\n",
    "tokenizer_cardiff = AutoTokenizer.from_pretrained(\"cardiffnlp/twitter-roberta-base-hate-latest\")"
   ]
  },
  {
   "cell_type": "code",
   "execution_count": 7,
   "id": "aefdadba",
   "metadata": {},
   "outputs": [],
   "source": [
    "class HateSpeechDataset:\n",
    "    def __init__(self, texts):\n",
    "        self.texts = texts\n",
    "        \n",
    "    def __len__(self):\n",
    "        return len(self.texts)\n",
    "    \n",
    "    def __getitem__(self, idx):\n",
    "        return self.texts[idx]"
   ]
  },
  {
   "cell_type": "code",
   "execution_count": 8,
   "id": "b9bdb9ec",
   "metadata": {},
   "outputs": [],
   "source": [
    "def batch_predict(texts: Union[List[str], np.ndarray], pipeline_fn):\n",
    "    \"\"\"Run predictions in batches for efficiency\"\"\"\n",
    "    if isinstance(texts, np.ndarray):\n",
    "        texts = texts.tolist()\n",
    "    \n",
    "    dataset = HateSpeechDataset(texts)\n",
    "    \n",
    "    # Process in batches\n",
    "    all_outputs = []\n",
    "    for i in range(0, len(dataset), BATCH_SIZE):\n",
    "        batch_texts = [dataset[j] for j in range(i, min(i + BATCH_SIZE, len(dataset)))]\n",
    "        outputs = pipeline_fn(batch_texts, top_k=2)\n",
    "        all_outputs.extend(outputs)\n",
    "    \n",
    "    # Convert to numpy array with consistent order\n",
    "    return np.array([\n",
    "        [label['score'] for label in sorted(res, key=lambda x: x['label'])]\n",
    "        for res in all_outputs\n",
    "    ])"
   ]
  },
  {
   "cell_type": "code",
   "execution_count": 9,
   "id": "7a7a7567",
   "metadata": {},
   "outputs": [],
   "source": [
    "def predict_cardiff(texts):\n",
    "    return batch_predict(texts, pipe_cardiff)"
   ]
  },
  {
   "cell_type": "code",
   "execution_count": null,
   "id": "18a6a98b",
   "metadata": {},
   "outputs": [],
   "source": [
    "def generate_lime_visualization(sample_id, text, seed, evaluation):\n",
    "    \"\"\"Generate LIME visualization for a given sample and seed, and save as SVG.\"\"\"\n",
    "    print(f\"Generating {evaluation} LIME visualization for sample {sample_id} with seed {seed}...\")\n",
    "    \n",
    "    # Set seed for reproducibility\n",
    "    set_seed(seed)\n",
    "    \n",
    "    # Initialize LIME explainer with the specified seed\n",
    "    explainer = LimeTextExplainer(random_state=seed)\n",
    "    \n",
    "    # Generate explanation\n",
    "    exp = explainer.explain_instance(\n",
    "        text, \n",
    "        predict_cardiff\n",
    "    )\n",
    "    \n",
    "    exp.show_in_notebook(text=True)\n",
    "\n"
   ]
  },
  {
   "cell_type": "code",
   "execution_count": null,
   "id": "9a823286",
   "metadata": {},
   "outputs": [],
   "source": [
    "def generate_shap_visualization(sample_id, text, seed, evaluation):\n",
    "    text_list = [text]\n",
    "    set_seed(seed)\n",
    "\n",
    "    explainer = shap.Explainer(predict_cardiff, \n",
    "                                masker=shap.maskers.Text(tokenizer_cardiff), \n",
    "                                seed=seed)\n",
    "    shap_values = explainer(text_list)\n",
    "    print(f\"Generating {evaluation} SHAP visualization for sample {sample_id} with seed {seed}...\")\n",
    "    shap.plots.text(shap_values[0])"
   ]
  },
  {
   "cell_type": "code",
   "execution_count": 11,
   "id": "0a0857a7",
   "metadata": {},
   "outputs": [
    {
     "name": "stdout",
     "output_type": "stream",
     "text": [
      "DataFrame loaded successfully with 652 rows\n",
      "\n",
      "Preview of the DataFrame:\n"
     ]
    },
    {
     "data": {
      "text/html": [
       "<div>\n",
       "<style scoped>\n",
       "    .dataframe tbody tr th:only-of-type {\n",
       "        vertical-align: middle;\n",
       "    }\n",
       "\n",
       "    .dataframe tbody tr th {\n",
       "        vertical-align: top;\n",
       "    }\n",
       "\n",
       "    .dataframe thead th {\n",
       "        text-align: right;\n",
       "    }\n",
       "</style>\n",
       "<table border=\"1\" class=\"dataframe\">\n",
       "  <thead>\n",
       "    <tr style=\"text-align: right;\">\n",
       "      <th></th>\n",
       "      <th>text</th>\n",
       "      <th>extracted_target</th>\n",
       "      <th>platform</th>\n",
       "      <th>is_hatespeech</th>\n",
       "      <th>id</th>\n",
       "      <th>cardiff_score</th>\n",
       "      <th>cardiff_hatespeech</th>\n",
       "    </tr>\n",
       "  </thead>\n",
       "  <tbody>\n",
       "    <tr>\n",
       "      <th>0</th>\n",
       "      <td>India is one nasty, dirty, filthy, germsy, law...</td>\n",
       "      <td>{nationality}</td>\n",
       "      <td>youtube</td>\n",
       "      <td>1</td>\n",
       "      <td>53513</td>\n",
       "      <td>0.994301</td>\n",
       "      <td>1</td>\n",
       "    </tr>\n",
       "    <tr>\n",
       "      <th>1</th>\n",
       "      <td>solo que seras bombardeas y destruidos como lo...</td>\n",
       "      <td>{religion}</td>\n",
       "      <td>gab</td>\n",
       "      <td>1</td>\n",
       "      <td>8335</td>\n",
       "      <td>0.957913</td>\n",
       "      <td>1</td>\n",
       "    </tr>\n",
       "    <tr>\n",
       "      <th>2</th>\n",
       "      <td>@user @user You cannot argue with a retard jer...</td>\n",
       "      <td>{disability, nationality}</td>\n",
       "      <td>twitter</td>\n",
       "      <td>1</td>\n",
       "      <td>64112</td>\n",
       "      <td>0.994864</td>\n",
       "      <td>1</td>\n",
       "    </tr>\n",
       "    <tr>\n",
       "      <th>3</th>\n",
       "      <td>Can I just pound that pussy an pull your hair....</td>\n",
       "      <td>{gender}</td>\n",
       "      <td>reddit</td>\n",
       "      <td>1</td>\n",
       "      <td>22034</td>\n",
       "      <td>0.977588</td>\n",
       "      <td>1</td>\n",
       "    </tr>\n",
       "    <tr>\n",
       "      <th>4</th>\n",
       "      <td>you do not live in america nazi faggot but you...</td>\n",
       "      <td>{sexuality}</td>\n",
       "      <td>gab</td>\n",
       "      <td>1</td>\n",
       "      <td>18143</td>\n",
       "      <td>0.985650</td>\n",
       "      <td>1</td>\n",
       "    </tr>\n",
       "  </tbody>\n",
       "</table>\n",
       "</div>"
      ],
      "text/plain": [
       "                                                text  \\\n",
       "0  India is one nasty, dirty, filthy, germsy, law...   \n",
       "1  solo que seras bombardeas y destruidos como lo...   \n",
       "2  @user @user You cannot argue with a retard jer...   \n",
       "3  Can I just pound that pussy an pull your hair....   \n",
       "4  you do not live in america nazi faggot but you...   \n",
       "\n",
       "            extracted_target platform is_hatespeech     id  cardiff_score  \\\n",
       "0              {nationality}  youtube             1  53513       0.994301   \n",
       "1                 {religion}      gab             1   8335       0.957913   \n",
       "2  {disability, nationality}  twitter             1  64112       0.994864   \n",
       "3                   {gender}   reddit             1  22034       0.977588   \n",
       "4                {sexuality}      gab             1  18143       0.985650   \n",
       "\n",
       "   cardiff_hatespeech  \n",
       "0                   1  \n",
       "1                   1  \n",
       "2                   1  \n",
       "3                   1  \n",
       "4                   1  "
      ]
     },
     "metadata": {},
     "output_type": "display_data"
    }
   ],
   "source": [
    "import pandas as pd\n",
    "import requests\n",
    "from io import BytesIO\n",
    "\n",
    "# GitHub raw content URL for the pickle file\n",
    "github_raw_url = \"https://github.com/Takosaga/master_thesis/raw/main/data/processed/experiement_samples.pkl\"\n",
    "# Download the pickle file\n",
    "response = requests.get(github_raw_url)\n",
    "\n",
    "# Check if the request was successful\n",
    "if response.status_code == 200:\n",
    "    # Load the pickle data into a pandas DataFrame\n",
    "    df = pd.read_pickle(BytesIO(response.content))\n",
    "    print(f\"DataFrame loaded successfully with {len(df)} rows\")\n",
    "\n",
    "    # Display the first few rows\n",
    "    print(\"\\nPreview of the DataFrame:\")\n",
    "    display(df.head())\n",
    "else:\n",
    "    print(f\"Failed to download the file. Status code: {response.status_code}\")\n",
    "    print(f\"Response: {response.text}\")"
   ]
  },
  {
   "cell_type": "code",
   "execution_count": 12,
   "id": "0611e03e",
   "metadata": {},
   "outputs": [],
   "source": [
    "text_TN = df.loc[df['id'] == 53812, 'text'].values[0]\n",
    "text_FN = df.loc[df['id'] == 15185, 'text'].values[0]\n",
    "text_FP = df.loc[df['id'] == 38012, 'text'].values[0]\n",
    "text_TP = df.loc[df['id'] == 18694, 'text'].values[0]"
   ]
  },
  {
   "cell_type": "code",
   "execution_count": 13,
   "id": "e1de4920",
   "metadata": {},
   "outputs": [],
   "source": [
    "id_used = [53812, 15185, 38012, 18694]"
   ]
  },
  {
   "cell_type": "code",
   "execution_count": 14,
   "id": "e9703710",
   "metadata": {},
   "outputs": [],
   "source": [
    "seeds_TN = [83811, 97197]\n",
    "seeds_FN = [83811, 97197]\n",
    "seeds_FP = [3279, 83811]\n",
    "seeds_TP = [3279, 14593]"
   ]
  },
  {
   "cell_type": "markdown",
   "id": "5e8f50cc",
   "metadata": {},
   "source": [
    "### LIME Visuals"
   ]
  },
  {
   "cell_type": "code",
   "execution_count": null,
   "id": "3fe359f6",
   "metadata": {},
   "outputs": [],
   "source": [
    "generate_lime_visualization(id_used[0], text_TN, seeds_TN[0], 'TN' )"
   ]
  },
  {
   "cell_type": "code",
   "execution_count": null,
   "id": "1fc594b3",
   "metadata": {},
   "outputs": [],
   "source": [
    "generate_lime_visualization(id_used[0], text_TN, seeds_TN[1], 'TN' )"
   ]
  },
  {
   "cell_type": "code",
   "execution_count": null,
   "id": "0243cf3a",
   "metadata": {},
   "outputs": [],
   "source": [
    "generate_lime_visualization(id_used[1], text_FN, seeds_FN[0], 'FN' )\n"
   ]
  },
  {
   "cell_type": "code",
   "execution_count": null,
   "id": "a5f50e83",
   "metadata": {},
   "outputs": [],
   "source": [
    "generate_lime_visualization(id_used[1], text_FN, seeds_FN[1], 'FN' )"
   ]
  },
  {
   "cell_type": "code",
   "execution_count": null,
   "id": "87fdb968",
   "metadata": {},
   "outputs": [],
   "source": [
    "generate_lime_visualization(id_used[2], text_FP, seeds_FP[0], 'FP' )\n"
   ]
  },
  {
   "cell_type": "code",
   "execution_count": null,
   "id": "87b5ff23",
   "metadata": {},
   "outputs": [],
   "source": [
    "generate_lime_visualization(id_used[2], text_FP, seeds_FP[1], 'FP' )"
   ]
  },
  {
   "cell_type": "code",
   "execution_count": null,
   "id": "15b5a841",
   "metadata": {},
   "outputs": [],
   "source": [
    "generate_lime_visualization(id_used[3], text_TP, seeds_TP[0], 'TP' )"
   ]
  },
  {
   "cell_type": "code",
   "execution_count": null,
   "id": "f09939d7",
   "metadata": {},
   "outputs": [],
   "source": [
    "\n",
    "generate_lime_visualization(id_used[3], text_TP, seeds_TP[1], 'TP' )"
   ]
  },
  {
   "cell_type": "markdown",
   "id": "53da7e0f",
   "metadata": {},
   "source": [
    "### SHAP Visuals"
   ]
  },
  {
   "cell_type": "code",
   "execution_count": null,
   "id": "18efbb0d",
   "metadata": {},
   "outputs": [],
   "source": [
    "generate_shap_visualization(id_used[0], text_TN, seeds_TN[0], 'TN' )"
   ]
  },
  {
   "cell_type": "code",
   "execution_count": null,
   "id": "f13e1201",
   "metadata": {},
   "outputs": [],
   "source": [
    "generate_shap_visualization(id_used[0], text_TN, seeds_TN[1], 'TN' )"
   ]
  },
  {
   "cell_type": "code",
   "execution_count": null,
   "id": "391db160",
   "metadata": {},
   "outputs": [],
   "source": [
    "generate_shap_visualization(id_used[1], text_FN, seeds_FN[0], 'FN' )\n"
   ]
  },
  {
   "cell_type": "code",
   "execution_count": null,
   "id": "8f5198db",
   "metadata": {},
   "outputs": [],
   "source": [
    "generate_shap_visualization(id_used[1], text_FN, seeds_FN[1], 'FN' )"
   ]
  },
  {
   "cell_type": "code",
   "execution_count": null,
   "id": "0c704cb3",
   "metadata": {},
   "outputs": [],
   "source": [
    "generate_shap_visualization(id_used[2], text_FP, seeds_FP[0], 'FP' )"
   ]
  },
  {
   "cell_type": "code",
   "execution_count": null,
   "id": "8e53ba61",
   "metadata": {},
   "outputs": [],
   "source": [
    "generate_shap_visualization(id_used[2], text_FN, seeds_FN[1], 'FN' )"
   ]
  },
  {
   "cell_type": "code",
   "execution_count": null,
   "id": "009c4d34",
   "metadata": {},
   "outputs": [],
   "source": [
    "generate_shap_visualization(id_used[3], text_TP, seeds_TP[0], 'TP' )\n"
   ]
  },
  {
   "cell_type": "code",
   "execution_count": null,
   "id": "f3260b00",
   "metadata": {},
   "outputs": [],
   "source": [
    "generate_shap_visualization(id_used[3], text_TP, seeds_TP[1], 'TP' )"
   ]
  }
 ],
 "metadata": {
  "kernelspec": {
   "display_name": "master_thesis",
   "language": "python",
   "name": "python3"
  },
  "language_info": {
   "codemirror_mode": {
    "name": "ipython",
    "version": 3
   },
   "file_extension": ".py",
   "mimetype": "text/x-python",
   "name": "python",
   "nbconvert_exporter": "python",
   "pygments_lexer": "ipython3",
   "version": "3.10.16"
  }
 },
 "nbformat": 4,
 "nbformat_minor": 5
}
