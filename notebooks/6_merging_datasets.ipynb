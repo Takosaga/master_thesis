{
 "cells": [
  {
   "cell_type": "markdown",
   "metadata": {},
   "source": [
    "# Merging Datasets\n",
    "\n",
    "This notebook details the process of merging multiple datasets into a single, unified dataset.  "
   ]
  },
  {
   "cell_type": "code",
   "execution_count": 22,
   "metadata": {},
   "outputs": [],
   "source": [
    "import pandas as pd\n",
    "import numpy as np\n",
    "import dtale\n",
    "from master_thesis.config import INTERIM_DATA_DIR, PROCESSED_DATA_DIR, load_dataframe_from_pickle, save_dataframe_as_pickle"
   ]
  },
  {
   "cell_type": "code",
   "execution_count": 23,
   "metadata": {},
   "outputs": [],
   "source": [
    "prep_hatexplain_df = load_dataframe_from_pickle(INTERIM_DATA_DIR.as_posix() + '/prep_hatexplain_df.pkl')\n",
    "prep_measuring_hate_speech_df = load_dataframe_from_pickle(INTERIM_DATA_DIR.as_posix() + '/prep_measuring_hate_speech_df.pkl')\n",
    "prep_mlma_df = load_dataframe_from_pickle(INTERIM_DATA_DIR.as_posix() + '/prep_mlma_df.pkl')"
   ]
  },
  {
   "cell_type": "code",
   "execution_count": 24,
   "metadata": {},
   "outputs": [
    {
     "data": {
      "text/plain": [
       "text                                              object\n",
       "original_label                                    object\n",
       "original_target                                   object\n",
       "original_id                                       object\n",
       "platform                                          object\n",
       "original_dataset_title                            object\n",
       "label_hatespeech_binary_offensive_not_included    object\n",
       "label_hatespeech_binary_offensive_included        object\n",
       "label_normal_offensive_hatespeech                 object\n",
       "dtype: object"
      ]
     },
     "execution_count": 24,
     "metadata": {},
     "output_type": "execute_result"
    }
   ],
   "source": [
    "prep_hatexplain_df.dtypes"
   ]
  },
  {
   "cell_type": "code",
   "execution_count": 25,
   "metadata": {},
   "outputs": [
    {
     "data": {
      "text/plain": [
       "original_id                                         int32\n",
       "text                                               object\n",
       "original_label                                    float64\n",
       "platform                                           object\n",
       "original_target                                    object\n",
       "original_dataset_title                             object\n",
       "label_hatespeech_binary_offensive_not_included     object\n",
       "label_hatespeech_binary_offensive_included         object\n",
       "label_normal_offensive_hatespeech                  object\n",
       "dtype: object"
      ]
     },
     "execution_count": 25,
     "metadata": {},
     "output_type": "execute_result"
    }
   ],
   "source": [
    "prep_measuring_hate_speech_df.dtypes"
   ]
  },
  {
   "cell_type": "code",
   "execution_count": 26,
   "metadata": {},
   "outputs": [],
   "source": [
    "prep_measuring_hate_speech_df['original_id'] = prep_measuring_hate_speech_df['original_id'].astype('object')\n",
    "prep_measuring_hate_speech_df['original_label'] = prep_measuring_hate_speech_df['original_label'].astype('object')"
   ]
  },
  {
   "cell_type": "code",
   "execution_count": 27,
   "metadata": {},
   "outputs": [
    {
     "data": {
      "text/plain": [
       "original_id                                       object\n",
       "text                                              object\n",
       "original_label                                    object\n",
       "platform                                          object\n",
       "original_target                                   object\n",
       "original_dataset_title                            object\n",
       "label_hatespeech_binary_offensive_not_included    object\n",
       "label_hatespeech_binary_offensive_included        object\n",
       "label_normal_offensive_hatespeech                 object\n",
       "dtype: object"
      ]
     },
     "execution_count": 27,
     "metadata": {},
     "output_type": "execute_result"
    }
   ],
   "source": [
    "prep_measuring_hate_speech_df.dtypes"
   ]
  },
  {
   "cell_type": "code",
   "execution_count": 28,
   "metadata": {},
   "outputs": [
    {
     "data": {
      "text/plain": [
       "original_id                                        int64\n",
       "text                                              object\n",
       "original_label                                    object\n",
       "original_dataset_title                            object\n",
       "platform                                          object\n",
       "label_hatespeech_binary_offensive_not_included    object\n",
       "label_hatespeech_binary_offensive_included        object\n",
       "label_normal_offensive_hatespeech                 object\n",
       "original_target                                   object\n",
       "dtype: object"
      ]
     },
     "execution_count": 28,
     "metadata": {},
     "output_type": "execute_result"
    }
   ],
   "source": [
    "prep_mlma_df.dtypes"
   ]
  },
  {
   "cell_type": "code",
   "execution_count": 29,
   "metadata": {},
   "outputs": [],
   "source": [
    "prep_mlma_df['original_id'] = prep_mlma_df['original_id'].astype('object')"
   ]
  },
  {
   "cell_type": "code",
   "execution_count": 30,
   "metadata": {},
   "outputs": [
    {
     "data": {
      "text/plain": [
       "original_id                                       object\n",
       "text                                              object\n",
       "original_label                                    object\n",
       "original_dataset_title                            object\n",
       "platform                                          object\n",
       "label_hatespeech_binary_offensive_not_included    object\n",
       "label_hatespeech_binary_offensive_included        object\n",
       "label_normal_offensive_hatespeech                 object\n",
       "original_target                                   object\n",
       "dtype: object"
      ]
     },
     "execution_count": 30,
     "metadata": {},
     "output_type": "execute_result"
    }
   ],
   "source": [
    "prep_mlma_df.dtypes"
   ]
  },
  {
   "cell_type": "code",
   "execution_count": 31,
   "metadata": {},
   "outputs": [
    {
     "name": "stdout",
     "output_type": "stream",
     "text": [
      "Hatexplain shape: (20148, 9)\n",
      "MLMA shape:  (5646, 9)\n",
      "Measuring Hate Speech shape:  (39495, 9)\n"
     ]
    }
   ],
   "source": [
    "print('Hatexplain shape:',prep_hatexplain_df.shape)\n",
    "print('MLMA shape: ', prep_mlma_df.shape)\n",
    "print('Measuring Hate Speech shape: ', prep_measuring_hate_speech_df.shape)"
   ]
  },
  {
   "cell_type": "code",
   "execution_count": 32,
   "metadata": {},
   "outputs": [],
   "source": [
    "merged_dfs = pd.concat([prep_hatexplain_df, prep_measuring_hate_speech_df, prep_mlma_df], ignore_index=True)"
   ]
  },
  {
   "cell_type": "code",
   "execution_count": 33,
   "metadata": {},
   "outputs": [
    {
     "data": {
      "text/html": [
       "<div>\n",
       "<style scoped>\n",
       "    .dataframe tbody tr th:only-of-type {\n",
       "        vertical-align: middle;\n",
       "    }\n",
       "\n",
       "    .dataframe tbody tr th {\n",
       "        vertical-align: top;\n",
       "    }\n",
       "\n",
       "    .dataframe thead th {\n",
       "        text-align: right;\n",
       "    }\n",
       "</style>\n",
       "<table border=\"1\" class=\"dataframe\">\n",
       "  <thead>\n",
       "    <tr style=\"text-align: right;\">\n",
       "      <th></th>\n",
       "      <th>text</th>\n",
       "      <th>original_label</th>\n",
       "      <th>original_target</th>\n",
       "      <th>original_id</th>\n",
       "      <th>platform</th>\n",
       "      <th>original_dataset_title</th>\n",
       "      <th>label_hatespeech_binary_offensive_not_included</th>\n",
       "      <th>label_hatespeech_binary_offensive_included</th>\n",
       "      <th>label_normal_offensive_hatespeech</th>\n",
       "    </tr>\n",
       "  </thead>\n",
       "  <tbody>\n",
       "    <tr>\n",
       "      <th>0</th>\n",
       "      <td>i dont think im getting my baby them white 9 h...</td>\n",
       "      <td>normal</td>\n",
       "      <td>[None]</td>\n",
       "      <td>1179055004553900032</td>\n",
       "      <td>twitter</td>\n",
       "      <td>HateXplain</td>\n",
       "      <td>not_hatespeech</td>\n",
       "      <td>normal</td>\n",
       "      <td>normal</td>\n",
       "    </tr>\n",
       "    <tr>\n",
       "      <th>1</th>\n",
       "      <td>we cannot continue calling ourselves feminists...</td>\n",
       "      <td>normal</td>\n",
       "      <td>[None]</td>\n",
       "      <td>1179063826874032128</td>\n",
       "      <td>twitter</td>\n",
       "      <td>HateXplain</td>\n",
       "      <td>not_hatespeech</td>\n",
       "      <td>normal</td>\n",
       "      <td>normal</td>\n",
       "    </tr>\n",
       "    <tr>\n",
       "      <th>2</th>\n",
       "      <td>nawt yall niggers ignoring me</td>\n",
       "      <td>normal</td>\n",
       "      <td>[African]</td>\n",
       "      <td>1178793830532956161</td>\n",
       "      <td>twitter</td>\n",
       "      <td>HateXplain</td>\n",
       "      <td>not_hatespeech</td>\n",
       "      <td>normal</td>\n",
       "      <td>normal</td>\n",
       "    </tr>\n",
       "    <tr>\n",
       "      <th>3</th>\n",
       "      <td>&lt;user&gt; i am bit confused coz chinese ppl can n...</td>\n",
       "      <td>hatespeech</td>\n",
       "      <td>[Asian]</td>\n",
       "      <td>1179088797964763136</td>\n",
       "      <td>twitter</td>\n",
       "      <td>HateXplain</td>\n",
       "      <td>hatespeech</td>\n",
       "      <td>hatespeech/offensive</td>\n",
       "      <td>hatespeech</td>\n",
       "    </tr>\n",
       "    <tr>\n",
       "      <th>4</th>\n",
       "      <td>this bitch in whataburger eating a burger with...</td>\n",
       "      <td>hatespeech</td>\n",
       "      <td>[Caucasian, Women]</td>\n",
       "      <td>1179085312976445440</td>\n",
       "      <td>twitter</td>\n",
       "      <td>HateXplain</td>\n",
       "      <td>hatespeech</td>\n",
       "      <td>hatespeech/offensive</td>\n",
       "      <td>hatespeech</td>\n",
       "    </tr>\n",
       "  </tbody>\n",
       "</table>\n",
       "</div>"
      ],
      "text/plain": [
       "                                                text original_label  \\\n",
       "0  i dont think im getting my baby them white 9 h...         normal   \n",
       "1  we cannot continue calling ourselves feminists...         normal   \n",
       "2                      nawt yall niggers ignoring me         normal   \n",
       "3  <user> i am bit confused coz chinese ppl can n...     hatespeech   \n",
       "4  this bitch in whataburger eating a burger with...     hatespeech   \n",
       "\n",
       "      original_target          original_id platform original_dataset_title  \\\n",
       "0              [None]  1179055004553900032  twitter             HateXplain   \n",
       "1              [None]  1179063826874032128  twitter             HateXplain   \n",
       "2           [African]  1178793830532956161  twitter             HateXplain   \n",
       "3             [Asian]  1179088797964763136  twitter             HateXplain   \n",
       "4  [Caucasian, Women]  1179085312976445440  twitter             HateXplain   \n",
       "\n",
       "  label_hatespeech_binary_offensive_not_included  \\\n",
       "0                                 not_hatespeech   \n",
       "1                                 not_hatespeech   \n",
       "2                                 not_hatespeech   \n",
       "3                                     hatespeech   \n",
       "4                                     hatespeech   \n",
       "\n",
       "  label_hatespeech_binary_offensive_included label_normal_offensive_hatespeech  \n",
       "0                                     normal                            normal  \n",
       "1                                     normal                            normal  \n",
       "2                                     normal                            normal  \n",
       "3                       hatespeech/offensive                        hatespeech  \n",
       "4                       hatespeech/offensive                        hatespeech  "
      ]
     },
     "execution_count": 33,
     "metadata": {},
     "output_type": "execute_result"
    }
   ],
   "source": [
    "merged_dfs.head()"
   ]
  },
  {
   "cell_type": "code",
   "execution_count": 34,
   "metadata": {},
   "outputs": [],
   "source": [
    "d = dtale.show(merged_dfs)\n",
    "d.open_browser()"
   ]
  },
  {
   "cell_type": "code",
   "execution_count": 35,
   "metadata": {},
   "outputs": [
    {
     "name": "stderr",
     "output_type": "stream",
     "text": [
      "2025-04-01 12:32:41,549 - INFO     - Executing shutdown...\n",
      "2025-04-01 12:32:41,549 - INFO     - Not running with the Werkzeug Server, exiting by searching gc for BaseWSGIServer\n"
     ]
    }
   ],
   "source": [
    "d.kill()"
   ]
  },
  {
   "cell_type": "code",
   "execution_count": 36,
   "metadata": {},
   "outputs": [
    {
     "data": {
      "text/plain": [
       "platform\n",
       "twitter    30148\n",
       "reddit     15842\n",
       "gab        11093\n",
       "youtube     8178\n",
       "nf_6           9\n",
       "nf_2           8\n",
       "nf_4           7\n",
       "nf_3           2\n",
       "nf_1           2\n",
       "Name: count, dtype: int64"
      ]
     },
     "execution_count": 36,
     "metadata": {},
     "output_type": "execute_result"
    }
   ],
   "source": [
    "merged_dfs['platform'].value_counts()"
   ]
  },
  {
   "cell_type": "code",
   "execution_count": 37,
   "metadata": {},
   "outputs": [],
   "source": [
    "values_to_remove = ['nf_6', 'nf_2', 'nf_4', 'nf_3', 'nf_1']\n"
   ]
  },
  {
   "cell_type": "code",
   "execution_count": 38,
   "metadata": {},
   "outputs": [
    {
     "data": {
      "text/plain": [
       "platform\n",
       "twitter    30148\n",
       "reddit     15842\n",
       "gab        11093\n",
       "youtube     8178\n",
       "Name: count, dtype: int64"
      ]
     },
     "execution_count": 38,
     "metadata": {},
     "output_type": "execute_result"
    }
   ],
   "source": [
    "merged_dfs = merged_dfs[~merged_dfs['platform'].isin(values_to_remove)]\n",
    "merged_dfs['platform'].value_counts()"
   ]
  },
  {
   "cell_type": "code",
   "execution_count": 39,
   "metadata": {},
   "outputs": [
    {
     "data": {
      "text/plain": [
       "original_dataset_title\n",
       "Measuring Hate Speech    39495\n",
       "HateXplain               20120\n",
       "MLMA                      5646\n",
       "Name: count, dtype: int64"
      ]
     },
     "execution_count": 39,
     "metadata": {},
     "output_type": "execute_result"
    }
   ],
   "source": [
    "merged_dfs['original_dataset_title'].value_counts()"
   ]
  },
  {
   "cell_type": "code",
   "execution_count": 40,
   "metadata": {},
   "outputs": [
    {
     "data": {
      "text/plain": [
       "original_target\n",
       "[None]                                                                                                                                                                                                                                                   6569\n",
       "[gender_women, gender]                                                                                                                                                                                                                                   6335\n",
       "[race_black, race]                                                                                                                                                                                                                                       2580\n",
       "[African]                                                                                                                                                                                                                                                2271\n",
       "[origin_specific_country, origin]                                                                                                                                                                                                                        2118\n",
       "                                                                                                                                                                                                                                                         ... \n",
       "[race_latinx, race_other, race, origin_immigrant, origin_other, origin]                                                                                                                                                                                     1\n",
       "[religion_atheist, religion_buddhist, religion_christian, religion_hindu, religion_jewish, religion_mormon, religion_muslim, religion_other, religion, origin_immigrant, origin_migrant_worker, origin_specific_country, origin_undocumented, origin]       1\n",
       "[gender_men, gender, sexuality_bisexual, sexuality_gay, sexuality_straight, sexuality, disability_cognitive, disability_neurological, disability]                                                                                                           1\n",
       "[gender_men, gender_women, gender, sexuality_straight, sexuality_other, sexuality]                                                                                                                                                                          1\n",
       "[religion, indian/hindu]                                                                                                                                                                                                                                    1\n",
       "Name: count, Length: 3475, dtype: int64"
      ]
     },
     "execution_count": 40,
     "metadata": {},
     "output_type": "execute_result"
    }
   ],
   "source": [
    "merged_dfs['original_target'].value_counts()"
   ]
  },
  {
   "cell_type": "markdown",
   "metadata": {},
   "source": [
    "I want to extract original targets to simiplify to calls out real or perceived “identity factors” of an individual or a group, including: “religion, ethnicity, nationality, race, colour, descent, gender, but also characteristics such as language, economic or social origin, disability, health status, or sexual orientation, among many others."
   ]
  },
  {
   "cell_type": "code",
   "execution_count": 131,
   "metadata": {},
   "outputs": [],
   "source": [
    "# to get all the unique values in orginal_target\n",
    "flattened_list = [item for sublist in merged_dfs['original_target'] for item in sublist if item]\n",
    "flattened_list = [item.lower() for item in flattened_list]\n",
    "all_targets = list(set(flattened_list))"
   ]
  },
  {
   "cell_type": "code",
   "execution_count": 132,
   "metadata": {},
   "outputs": [
    {
     "data": {
      "text/plain": [
       "['disability_neurological',\n",
       " 'race_other',\n",
       " 'gender_transgender_unspecified',\n",
       " 'men',\n",
       " 'age_young_adults',\n",
       " 'sexuality',\n",
       " 'none',\n",
       " 'asian',\n",
       " 'arab',\n",
       " 'sexuality_gay',\n",
       " 'homosexual',\n",
       " 'religion_mormon',\n",
       " 'indian/hindu',\n",
       " 'gender_transgender_men',\n",
       " 'race_asian',\n",
       " 'gender_men',\n",
       " 'race_black',\n",
       " 'hispanics',\n",
       " 'refugee',\n",
       " 'hispanic',\n",
       " 'sexuality_straight',\n",
       " 'left_wing_people',\n",
       " 'religion_muslim',\n",
       " 'jews',\n",
       " 'jewish',\n",
       " 'other',\n",
       " 'economic',\n",
       " 'indigenous',\n",
       " 'african_descent',\n",
       " 'refugees',\n",
       " 'religion_atheist',\n",
       " 'religion_christian',\n",
       " 'muslims',\n",
       " 'disability',\n",
       " 'disability_unspecific',\n",
       " 'disability_other',\n",
       " 'gender_non_binary',\n",
       " 'religion_hindu',\n",
       " 'gender_other',\n",
       " 'origin_immigrant',\n",
       " 'immigrants',\n",
       " 'disability_hearing_impaired',\n",
       " 'asians',\n",
       " 'disability_physical',\n",
       " 'special_needs',\n",
       " 'gender_women',\n",
       " 'african',\n",
       " 'race',\n",
       " 'race_pacific_islander',\n",
       " 'indian',\n",
       " 'race_latinx',\n",
       " 'race_white',\n",
       " 'origin_specific_country',\n",
       " 'origin_other',\n",
       " 'religion_buddhist',\n",
       " 'arabs',\n",
       " 'caucasian',\n",
       " 'gender',\n",
       " 'age_children',\n",
       " 'age_teenagers',\n",
       " 'age',\n",
       " 'religion_other',\n",
       " 'race_middle_eastern',\n",
       " 'sexuality_bisexual',\n",
       " 'disability_cognitive',\n",
       " 'gay',\n",
       " 'sexuality_other',\n",
       " 'gender_transgender_women',\n",
       " 'women',\n",
       " 'religion_jewish',\n",
       " 'sexuality_lesbian',\n",
       " 'islam',\n",
       " 'religion',\n",
       " 'age_other',\n",
       " 'individual',\n",
       " 'age_seniors',\n",
       " 'origin_migrant_worker',\n",
       " 'christian',\n",
       " 'race_native_american',\n",
       " 'origin',\n",
       " 'sexual_orientation',\n",
       " 'buddhism',\n",
       " 'age_middle_aged',\n",
       " 'origin_undocumented',\n",
       " 'hindu',\n",
       " 'disability_visually_impaired']"
      ]
     },
     "execution_count": 132,
     "metadata": {},
     "output_type": "execute_result"
    }
   ],
   "source": [
    "all_targets"
   ]
  },
  {
   "cell_type": "code",
   "execution_count": 63,
   "metadata": {},
   "outputs": [
    {
     "data": {
      "text/plain": [
       "\"\\nFor all the targets from \\n'target_race_asian',\\n'target_race_black',\\n'target_race_latinx',\\n'target_race_middle_eastern',\\n'target_race_native_american',\\n'target_race_pacific_islander',\\n'target_race_white',\\n'target_race_other',\\n'target_race',\\n'target_religion_atheist',\\n'target_religion_buddhist',\\n'target_religion_christian',\\n'target_religion_hindu',\\n'target_religion_jewish',\\n'target_religion_mormon',\\n'target_religion_muslim',\\n'target_religion_other',\\n'target_religion',\\n'target_origin_immigrant',\\n'target_origin_migrant_worker',\\n'target_origin_specific_country',\\n'target_origin_undocumented',\\n'target_origin_other',\\n'target_origin',\\n'target_gender_men',\\n'target_gender_non_binary',\\n'target_gender_transgender_men',\\n'target_gender_transgender_unspecified',\\n'target_gender_transgender_women',\\n'target_gender_women',\\n'target_gender_other',\\n'target_gender',\\n'target_sexuality_bisexual',\\n'target_sexuality_gay',\\n'target_sexuality_lesbian',\\n'target_sexuality_straight',\\n'target_sexuality_other',\\n'target_sexuality',\\n'target_age_children',\\n'target_age_teenagers',\\n'target_age_young_adults',\\n'target_age_middle_aged',\\n'target_age_seniors',\\n'target_age_other',\\n'target_age',\\n'target_disability_physical',\\n'target_disability_cognitive',\\n'target_disability_neurological',\\n'target_disability_visually_impaired',\\n'target_disability_hearing_impaired',\\n'target_disability_unspecific',\\n'target_disability_other',\\n'target_disability'\\n\""
      ]
     },
     "execution_count": 63,
     "metadata": {},
     "output_type": "execute_result"
    }
   ],
   "source": [
    "\"\"\"\n",
    "For all the targets from \n",
    "'target_race_asian',\n",
    "'target_race_black',\n",
    "'target_race_latinx',\n",
    "'target_race_middle_eastern',\n",
    "'target_race_native_american',\n",
    "'target_race_pacific_islander',\n",
    "'target_race_white',\n",
    "'target_race_other',\n",
    "'target_race',\n",
    "'target_religion_atheist',\n",
    "'target_religion_buddhist',\n",
    "'target_religion_christian',\n",
    "'target_religion_hindu',\n",
    "'target_religion_jewish',\n",
    "'target_religion_mormon',\n",
    "'target_religion_muslim',\n",
    "'target_religion_other',\n",
    "'target_religion',\n",
    "'target_origin_immigrant',\n",
    "'target_origin_migrant_worker',\n",
    "'target_origin_specific_country',\n",
    "'target_origin_undocumented',\n",
    "'target_origin_other',\n",
    "'target_origin',\n",
    "'target_gender_men',\n",
    "'target_gender_non_binary',\n",
    "'target_gender_transgender_men',\n",
    "'target_gender_transgender_unspecified',\n",
    "'target_gender_transgender_women',\n",
    "'target_gender_women',\n",
    "'target_gender_other',\n",
    "'target_gender',\n",
    "'target_sexuality_bisexual',\n",
    "'target_sexuality_gay',\n",
    "'target_sexuality_lesbian',\n",
    "'target_sexuality_straight',\n",
    "'target_sexuality_other',\n",
    "'target_sexuality',\n",
    "'target_age_children',\n",
    "'target_age_teenagers',\n",
    "'target_age_young_adults',\n",
    "'target_age_middle_aged',\n",
    "'target_age_seniors',\n",
    "'target_age_other',\n",
    "'target_age',\n",
    "'target_disability_physical',\n",
    "'target_disability_cognitive',\n",
    "'target_disability_neurological',\n",
    "'target_disability_visually_impaired',\n",
    "'target_disability_hearing_impaired',\n",
    "'target_disability_unspecific',\n",
    "'target_disability_other',\n",
    "'target_disability'\n",
    "\"\"\""
   ]
  },
  {
   "cell_type": "markdown",
   "metadata": {},
   "source": [
    "Going based of United nations Hate speech calls out real or perceived “identity factors” of an individual or a group, including: “religion, ethnicity, nationality, race, colour, descent, gender,” but also characteristics such as language, economic or social origin, disability, health status, or sexual orientation, among many others."
   ]
  },
  {
   "cell_type": "code",
   "execution_count": 133,
   "metadata": {},
   "outputs": [],
   "source": [
    "race_labels =  []\n",
    "religion_labels = []\n",
    "nationality_labels = [] # start with origin\n",
    "gender_labels = []\n",
    "sexuality_labels = []\n",
    "disability_labels = []\n",
    "other_lables = [] # age"
   ]
  },
  {
   "cell_type": "code",
   "execution_count": 134,
   "metadata": {},
   "outputs": [],
   "source": [
    "for target in all_targets:\n",
    "    if target.startswith('race'):\n",
    "        race_labels.append(target)\n",
    "        if target.startswith('race_'):\n",
    "            race_labels.append(target[5:])\n",
    "\n",
    "    if target.startswith('religion'):\n",
    "        religion_labels.append(target)\n",
    "        if target.startswith('religion_'):\n",
    "            religion_labels.append(target[9:])\n",
    "\n",
    "    if target.startswith('origin'):\n",
    "        nationality_labels.append(target)\n",
    "        if target.startswith('origin_'):\n",
    "            nationality_labels.append(target[7:])\n",
    "\n",
    "    if target.startswith('gender'):\n",
    "        gender_labels.append(target)\n",
    "        if target.startswith('gender_'):\n",
    "            gender_labels.append(target[7:])\n",
    "\n",
    "    if target.startswith('sexuality'):\n",
    "        sexuality_labels.append(target)\n",
    "        if target.startswith('sexuality_'):\n",
    "            sexuality_labels.append(target[10:])\n",
    "\n",
    "\n",
    "    if target.startswith('disability'):\n",
    "        disability_labels.append(target)\n",
    "        if target.startswith('disability_'):\n",
    "            disability_labels.append(target[11:])\n",
    "\n",
    "    if target.startswith('age'):\n",
    "        other_lables.append(target)\n",
    "        if target.startswith('age_'):\n",
    "            other_lables.append(target[4:])"
   ]
  },
  {
   "cell_type": "markdown",
   "metadata": {},
   "source": [
    "Sanity check of seeing labels and removing singular other"
   ]
  },
  {
   "cell_type": "code",
   "execution_count": 135,
   "metadata": {},
   "outputs": [
    {
     "data": {
      "text/plain": [
       "['race_other',\n",
       " 'race_asian',\n",
       " 'asian',\n",
       " 'race_black',\n",
       " 'black',\n",
       " 'race',\n",
       " 'race_pacific_islander',\n",
       " 'pacific_islander',\n",
       " 'race_latinx',\n",
       " 'latinx',\n",
       " 'race_white',\n",
       " 'white',\n",
       " 'race_middle_eastern',\n",
       " 'middle_eastern',\n",
       " 'race_native_american',\n",
       " 'native_american']"
      ]
     },
     "execution_count": 135,
     "metadata": {},
     "output_type": "execute_result"
    }
   ],
   "source": [
    "race_labels.remove('other')\n",
    "race_labels"
   ]
  },
  {
   "cell_type": "code",
   "execution_count": 136,
   "metadata": {},
   "outputs": [
    {
     "data": {
      "text/plain": [
       "['religion_mormon',\n",
       " 'mormon',\n",
       " 'religion_muslim',\n",
       " 'muslim',\n",
       " 'religion_atheist',\n",
       " 'atheist',\n",
       " 'religion_christian',\n",
       " 'christian',\n",
       " 'religion_hindu',\n",
       " 'hindu',\n",
       " 'religion_buddhist',\n",
       " 'buddhist',\n",
       " 'religion_other',\n",
       " 'religion_jewish',\n",
       " 'jewish',\n",
       " 'religion']"
      ]
     },
     "execution_count": 136,
     "metadata": {},
     "output_type": "execute_result"
    }
   ],
   "source": [
    "religion_labels.remove('other')\n",
    "religion_labels"
   ]
  },
  {
   "cell_type": "code",
   "execution_count": 137,
   "metadata": {},
   "outputs": [
    {
     "data": {
      "text/plain": [
       "['origin_immigrant',\n",
       " 'immigrant',\n",
       " 'origin_specific_country',\n",
       " 'specific_country',\n",
       " 'origin_other',\n",
       " 'origin_migrant_worker',\n",
       " 'migrant_worker',\n",
       " 'origin',\n",
       " 'origin_undocumented',\n",
       " 'undocumented']"
      ]
     },
     "execution_count": 137,
     "metadata": {},
     "output_type": "execute_result"
    }
   ],
   "source": [
    "nationality_labels.remove('other')\n",
    "nationality_labels"
   ]
  },
  {
   "cell_type": "code",
   "execution_count": 138,
   "metadata": {},
   "outputs": [
    {
     "data": {
      "text/plain": [
       "['sexuality',\n",
       " 'sexuality_gay',\n",
       " 'gay',\n",
       " 'sexuality_straight',\n",
       " 'straight',\n",
       " 'sexuality_bisexual',\n",
       " 'bisexual',\n",
       " 'sexuality_other',\n",
       " 'sexuality_lesbian',\n",
       " 'lesbian']"
      ]
     },
     "execution_count": 138,
     "metadata": {},
     "output_type": "execute_result"
    }
   ],
   "source": [
    "sexuality_labels.remove('other')\n",
    "sexuality_labels"
   ]
  },
  {
   "cell_type": "code",
   "execution_count": 139,
   "metadata": {},
   "outputs": [
    {
     "data": {
      "text/plain": [
       "['gender_transgender_unspecified',\n",
       " 'transgender_unspecified',\n",
       " 'gender_transgender_men',\n",
       " 'transgender_men',\n",
       " 'gender_men',\n",
       " 'men',\n",
       " 'gender_non_binary',\n",
       " 'non_binary',\n",
       " 'gender_other',\n",
       " 'gender_women',\n",
       " 'women',\n",
       " 'gender',\n",
       " 'gender_transgender_women',\n",
       " 'transgender_women']"
      ]
     },
     "execution_count": 139,
     "metadata": {},
     "output_type": "execute_result"
    }
   ],
   "source": [
    "gender_labels.remove('other')\n",
    "gender_labels"
   ]
  },
  {
   "cell_type": "code",
   "execution_count": 140,
   "metadata": {},
   "outputs": [
    {
     "data": {
      "text/plain": [
       "['disability_neurological',\n",
       " 'neurological',\n",
       " 'disability',\n",
       " 'disability_unspecific',\n",
       " 'unspecific',\n",
       " 'disability_other',\n",
       " 'disability_hearing_impaired',\n",
       " 'hearing_impaired',\n",
       " 'disability_physical',\n",
       " 'physical',\n",
       " 'disability_cognitive',\n",
       " 'cognitive',\n",
       " 'disability_visually_impaired',\n",
       " 'visually_impaired']"
      ]
     },
     "execution_count": 140,
     "metadata": {},
     "output_type": "execute_result"
    }
   ],
   "source": [
    "disability_labels.remove('other')\n",
    "disability_labels"
   ]
  },
  {
   "cell_type": "code",
   "execution_count": 141,
   "metadata": {},
   "outputs": [
    {
     "data": {
      "text/plain": [
       "['age_young_adults',\n",
       " 'young_adults',\n",
       " 'age_children',\n",
       " 'children',\n",
       " 'age_teenagers',\n",
       " 'teenagers',\n",
       " 'age',\n",
       " 'age_other',\n",
       " 'other',\n",
       " 'age_seniors',\n",
       " 'seniors',\n",
       " 'age_middle_aged',\n",
       " 'middle_aged']"
      ]
     },
     "execution_count": 141,
     "metadata": {},
     "output_type": "execute_result"
    }
   ],
   "source": [
    "other_lables"
   ]
  },
  {
   "cell_type": "code",
   "execution_count": 142,
   "metadata": {},
   "outputs": [
    {
     "name": "stdout",
     "output_type": "stream",
     "text": [
      "removing race_other from all_targets\n",
      "removing race_asian from all_targets\n",
      "removing asian from all_targets\n",
      "removing race_black from all_targets\n",
      "removing race from all_targets\n",
      "removing race_pacific_islander from all_targets\n",
      "removing race_latinx from all_targets\n",
      "removing race_white from all_targets\n",
      "removing race_middle_eastern from all_targets\n",
      "removing race_native_american from all_targets\n"
     ]
    }
   ],
   "source": [
    "race = []\n",
    "for label in race_labels:\n",
    "    if label in all_targets:\n",
    "        print(f\"removing {label} from all_targets\")\n",
    "        all_targets.remove(label)\n",
    "        race.append(label)\n",
    "    "
   ]
  },
  {
   "cell_type": "code",
   "execution_count": 143,
   "metadata": {},
   "outputs": [
    {
     "name": "stdout",
     "output_type": "stream",
     "text": [
      "removing religion_mormon from all_targets\n",
      "removing religion_muslim from all_targets\n",
      "removing religion_atheist from all_targets\n",
      "removing religion_christian from all_targets\n",
      "removing christian from all_targets\n",
      "removing religion_hindu from all_targets\n",
      "removing hindu from all_targets\n",
      "removing religion_buddhist from all_targets\n",
      "removing religion_other from all_targets\n",
      "removing religion_jewish from all_targets\n",
      "removing jewish from all_targets\n",
      "removing religion from all_targets\n"
     ]
    }
   ],
   "source": [
    "religion = []\n",
    "for label in religion_labels:\n",
    "    if label in all_targets:\n",
    "        print(f\"removing {label} from all_targets\")\n",
    "        all_targets.remove(label)\n",
    "        religion.append(label)"
   ]
  },
  {
   "cell_type": "code",
   "execution_count": 144,
   "metadata": {},
   "outputs": [
    {
     "name": "stdout",
     "output_type": "stream",
     "text": [
      "removing origin_immigrant from all_targets\n",
      "removing origin_specific_country from all_targets\n",
      "removing origin_other from all_targets\n",
      "removing origin_migrant_worker from all_targets\n",
      "removing origin from all_targets\n",
      "removing origin_undocumented from all_targets\n"
     ]
    }
   ],
   "source": [
    "nationality = []\n",
    "for label in nationality_labels:\n",
    "    if label in all_targets:\n",
    "        print(f\"removing {label} from all_targets\")\n",
    "        all_targets.remove(label)\n",
    "        nationality.append(label)"
   ]
  },
  {
   "cell_type": "code",
   "execution_count": 145,
   "metadata": {},
   "outputs": [
    {
     "name": "stdout",
     "output_type": "stream",
     "text": [
      "removing gender_transgender_unspecified from all_targets\n",
      "removing gender_transgender_men from all_targets\n",
      "removing gender_men from all_targets\n",
      "removing men from all_targets\n",
      "removing gender_non_binary from all_targets\n",
      "removing gender_other from all_targets\n",
      "removing gender_women from all_targets\n",
      "removing women from all_targets\n",
      "removing gender from all_targets\n",
      "removing gender_transgender_women from all_targets\n"
     ]
    }
   ],
   "source": [
    "gender = []\n",
    "for label in gender_labels:\n",
    "    if label in all_targets:\n",
    "        print(f\"removing {label} from all_targets\")\n",
    "        all_targets.remove(label)\n",
    "        gender.append(label)"
   ]
  },
  {
   "cell_type": "code",
   "execution_count": 146,
   "metadata": {},
   "outputs": [
    {
     "name": "stdout",
     "output_type": "stream",
     "text": [
      "removing sexuality from all_targets\n",
      "removing sexuality_gay from all_targets\n",
      "removing gay from all_targets\n",
      "removing sexuality_straight from all_targets\n",
      "removing sexuality_bisexual from all_targets\n",
      "removing sexuality_other from all_targets\n",
      "removing sexuality_lesbian from all_targets\n"
     ]
    }
   ],
   "source": [
    "sexuality = []\n",
    "for label in sexuality_labels:\n",
    "    if label in all_targets:\n",
    "        print(f\"removing {label} from all_targets\")\n",
    "        all_targets.remove(label)\n",
    "        sexuality.append(label)\n",
    "    \n"
   ]
  },
  {
   "cell_type": "code",
   "execution_count": 147,
   "metadata": {},
   "outputs": [
    {
     "name": "stdout",
     "output_type": "stream",
     "text": [
      "removing disability_neurological from all_targets\n",
      "removing disability from all_targets\n",
      "removing disability_unspecific from all_targets\n",
      "removing disability_other from all_targets\n",
      "removing disability_hearing_impaired from all_targets\n",
      "removing disability_physical from all_targets\n",
      "removing disability_cognitive from all_targets\n",
      "removing disability_visually_impaired from all_targets\n"
     ]
    }
   ],
   "source": [
    "disability = []\n",
    "for label in disability_labels:\n",
    "    if label in all_targets:\n",
    "        print(f\"removing {label} from all_targets\")\n",
    "        all_targets.remove(label)\n",
    "        disability.append(label)\n"
   ]
  },
  {
   "cell_type": "code",
   "execution_count": 148,
   "metadata": {},
   "outputs": [
    {
     "name": "stdout",
     "output_type": "stream",
     "text": [
      "removing age_young_adults from all_targets\n",
      "removing age_children from all_targets\n",
      "removing age_teenagers from all_targets\n",
      "removing age from all_targets\n",
      "removing age_other from all_targets\n",
      "removing other from all_targets\n",
      "removing age_seniors from all_targets\n",
      "removing age_middle_aged from all_targets\n"
     ]
    }
   ],
   "source": [
    "\n",
    "other = []\n",
    "for label in other_lables:\n",
    "    if label in all_targets:\n",
    "        print(f\"removing {label} from all_targets\")\n",
    "        all_targets.remove(label)\n",
    "        other.append(label)"
   ]
  },
  {
   "cell_type": "code",
   "execution_count": 149,
   "metadata": {},
   "outputs": [
    {
     "data": {
      "text/plain": [
       "['none',\n",
       " 'arab',\n",
       " 'homosexual',\n",
       " 'indian/hindu',\n",
       " 'hispanics',\n",
       " 'refugee',\n",
       " 'hispanic',\n",
       " 'left_wing_people',\n",
       " 'jews',\n",
       " 'economic',\n",
       " 'indigenous',\n",
       " 'african_descent',\n",
       " 'refugees',\n",
       " 'muslims',\n",
       " 'immigrants',\n",
       " 'asians',\n",
       " 'special_needs',\n",
       " 'african',\n",
       " 'indian',\n",
       " 'arabs',\n",
       " 'caucasian',\n",
       " 'islam',\n",
       " 'individual',\n",
       " 'sexual_orientation',\n",
       " 'buddhism']"
      ]
     },
     "execution_count": 149,
     "metadata": {},
     "output_type": "execute_result"
    }
   ],
   "source": [
    "all_targets"
   ]
  },
  {
   "cell_type": "code",
   "execution_count": null,
   "metadata": {},
   "outputs": [],
   "source": [
    "more_race_labels = ['african_descent', 'indian/hindu', 'hispanics', 'african', 'arab', 'arabs', 'caucasian', 'hispanic', 'indian',\n",
    "                    'asians']          \n",
    "more_nationality_labels = ['nationality', 'nationalities']\n",
    "\n",
    "more_sexuality_labels = ['homosexual', 'sexual_orientation']\n",
    "more_disability_labels = ['special_needs']\n",
    "more_other_labels = ['indigenous','economic', 'immigrants', 'refugee', 'left_wing_people','buddhism', 'other', 'jews', 'muslims', \n",
    "                    'individual', 'islam', 'refugees']"
   ]
  },
  {
   "cell_type": "code",
   "execution_count": null,
   "metadata": {},
   "outputs": [
    {
     "name": "stdout",
     "output_type": "stream",
     "text": [
      "removing african_descent from all_targets\n",
      "removing indian/hindu from all_targets\n",
      "removing hispanics from all_targets\n",
      "removing african from all_targets\n",
      "removing arab from all_targets\n",
      "removing arabs from all_targets\n",
      "removing caucasian from all_targets\n",
      "removing hispanic from all_targets\n",
      "removing indian from all_targets\n",
      "removing asians from all_targets\n"
     ]
    }
   ],
   "source": [
    "for label in more_race_labels:\n",
    "    if label in all_targets:\n",
    "        print(f\"removing {label} from all_targets\")\n",
    "        all_targets.remove(label)\n",
    "        race.append(label)\n",
    "    else:\n",
    "        print(f\"{label} not found in all_targets\")\n",
    "        "
   ]
  },
  {
   "cell_type": "code",
   "execution_count": null,
   "metadata": {},
   "outputs": [
    {
     "name": "stdout",
     "output_type": "stream",
     "text": [
      "removing homosexual from all_targets\n",
      "removing sexual_orientation from all_targets\n"
     ]
    }
   ],
   "source": [
    "\n",
    "for label in more_gender_sexuality_labels:\n",
    "    if label in all_targets:\n",
    "        print(f\"removing {label} from all_targets\")\n",
    "        all_targets.remove(label)\n",
    "        gender_sexuality.append(label)\n",
    "    else:\n",
    "        print(f\"{label} not found in all_targets\")\n"
   ]
  },
  {
   "cell_type": "code",
   "execution_count": null,
   "metadata": {},
   "outputs": [
    {
     "name": "stdout",
     "output_type": "stream",
     "text": [
      "removing special_needs from all_targets\n"
     ]
    }
   ],
   "source": [
    "\n",
    "for label in more_disability_labels:\n",
    "    if label in all_targets:\n",
    "        print(f\"removing {label} from all_targets\")\n",
    "        all_targets.remove(label)\n",
    "        disability.append(label)\n",
    "    else:\n",
    "        print(f\"{label} not found in all_targets\")\n"
   ]
  },
  {
   "cell_type": "code",
   "execution_count": null,
   "metadata": {},
   "outputs": [
    {
     "name": "stdout",
     "output_type": "stream",
     "text": [
      "removing indigenous from all_targets\n",
      "removing economic from all_targets\n",
      "removing immigrants from all_targets\n",
      "removing refugee from all_targets\n",
      "removing left_wing_people from all_targets\n",
      "removing buddhism from all_targets\n",
      "removing other from all_targets\n",
      "removing jews from all_targets\n",
      "removing muslims from all_targets\n",
      "removing individual from all_targets\n",
      "removing islam from all_targets\n",
      "removing refugees from all_targets\n"
     ]
    }
   ],
   "source": [
    "\n",
    "for label in more_other_labels:\n",
    "    if label in all_targets:\n",
    "        print(f\"removing {label} from all_targets\")\n",
    "        all_targets.remove(label)\n",
    "        other.append(label)\n",
    "    else:\n",
    "        print(f\"{label} not found in all_targets\")\n",
    "        "
   ]
  },
  {
   "cell_type": "code",
   "execution_count": null,
   "metadata": {},
   "outputs": [
    {
     "data": {
      "text/plain": [
       "['none']"
      ]
     },
     "execution_count": 34,
     "metadata": {},
     "output_type": "execute_result"
    }
   ],
   "source": [
    "all_targets"
   ]
  },
  {
   "cell_type": "code",
   "execution_count": null,
   "metadata": {},
   "outputs": [
    {
     "name": "stdout",
     "output_type": "stream",
     "text": [
      "races: ['asian', 'black', 'latinx', 'middle_eastern', 'native_american', 'pacific_islander', 'white', 'race', 'african_descent', 'indian/hindu', 'hispanics', 'african', 'arab', 'arabs', 'caucasian', 'hispanic', 'indian', 'asians']\n",
      "gender_sexuality: ['gender', 'men', 'non_binary', 'transgender_men', 'transgender_unspecified', 'transgender_women', 'women', 'sexuality', 'bisexual', 'gay', 'lesbian', 'straight', 'homosexual', 'sexual_orientation']\n",
      "disability: ['disability', 'physical', 'cognitive', 'neurological', 'visually_impaired', 'hearing_impaired', 'unspecific', 'special_needs']\n",
      "other: ['religion', 'atheist', 'buddhist', 'christian', 'hindu', 'jewish', 'mormon', 'muslim', 'immigrant', 'migrant_worker', 'specific_country', 'undocumented', 'origin', 'age', 'children', 'teenagers', 'young_adults', 'middle_aged', 'seniors', 'indigenous', 'economic', 'immigrants', 'refugee', 'left_wing_people', 'buddhism', 'other', 'jews', 'muslims', 'individual', 'islam', 'refugees']\n"
     ]
    }
   ],
   "source": [
    "print(f\"races: {race}\")\n",
    "print(f\"gender_sexuality: {gender_sexuality}\")\n",
    "print(f\"disability: {disability}\")\n",
    "print(f\"other: {other}\")"
   ]
  },
  {
   "cell_type": "code",
   "execution_count": null,
   "metadata": {},
   "outputs": [],
   "source": [
    "def extract_target(target_list):\n",
    "\n",
    "    \n",
    "    result = set()\n",
    "    for item in target_list:\n",
    "        item_lower = item.lower()\n",
    "        if item_lower in race:\n",
    "            result.add('race')\n",
    "        elif item_lower in gender_sexuality:\n",
    "            result.add('gender_sexuality')\n",
    "        elif item_lower in disability:\n",
    "            result.add('disability')\n",
    "        elif item_lower in other:\n",
    "            result.add('other')\n",
    "    \n",
    "    return result if result else {'none'}"
   ]
  },
  {
   "cell_type": "code",
   "execution_count": null,
   "metadata": {},
   "outputs": [],
   "source": [
    "merged_dfs['extracted_target'] = merged_dfs['original_target'].apply(extract_target)\n"
   ]
  },
  {
   "cell_type": "code",
   "execution_count": null,
   "metadata": {},
   "outputs": [
    {
     "data": {
      "text/html": [
       "<div>\n",
       "<style scoped>\n",
       "    .dataframe tbody tr th:only-of-type {\n",
       "        vertical-align: middle;\n",
       "    }\n",
       "\n",
       "    .dataframe tbody tr th {\n",
       "        vertical-align: top;\n",
       "    }\n",
       "\n",
       "    .dataframe thead th {\n",
       "        text-align: right;\n",
       "    }\n",
       "</style>\n",
       "<table border=\"1\" class=\"dataframe\">\n",
       "  <thead>\n",
       "    <tr style=\"text-align: right;\">\n",
       "      <th></th>\n",
       "      <th>text</th>\n",
       "      <th>original_label</th>\n",
       "      <th>original_target</th>\n",
       "      <th>original_id</th>\n",
       "      <th>platform</th>\n",
       "      <th>original_dataset_title</th>\n",
       "      <th>label_hatespeech_binary_offensive_not_included</th>\n",
       "      <th>label_hatespeech_binary_offensive_included</th>\n",
       "      <th>label_normal_offensive_hatespeech</th>\n",
       "      <th>extracted_target</th>\n",
       "    </tr>\n",
       "  </thead>\n",
       "  <tbody>\n",
       "    <tr>\n",
       "      <th>0</th>\n",
       "      <td>i dont think im getting my baby them white 9 h...</td>\n",
       "      <td>normal</td>\n",
       "      <td>[None]</td>\n",
       "      <td>1179055004553900032</td>\n",
       "      <td>twitter</td>\n",
       "      <td>HateXplain</td>\n",
       "      <td>not_hatespeech</td>\n",
       "      <td>normal</td>\n",
       "      <td>normal</td>\n",
       "      <td>{none}</td>\n",
       "    </tr>\n",
       "    <tr>\n",
       "      <th>1</th>\n",
       "      <td>we cannot continue calling ourselves feminists...</td>\n",
       "      <td>normal</td>\n",
       "      <td>[None]</td>\n",
       "      <td>1179063826874032128</td>\n",
       "      <td>twitter</td>\n",
       "      <td>HateXplain</td>\n",
       "      <td>not_hatespeech</td>\n",
       "      <td>normal</td>\n",
       "      <td>normal</td>\n",
       "      <td>{none}</td>\n",
       "    </tr>\n",
       "    <tr>\n",
       "      <th>2</th>\n",
       "      <td>nawt yall niggers ignoring me</td>\n",
       "      <td>normal</td>\n",
       "      <td>[African]</td>\n",
       "      <td>1178793830532956161</td>\n",
       "      <td>twitter</td>\n",
       "      <td>HateXplain</td>\n",
       "      <td>not_hatespeech</td>\n",
       "      <td>normal</td>\n",
       "      <td>normal</td>\n",
       "      <td>{race}</td>\n",
       "    </tr>\n",
       "    <tr>\n",
       "      <th>3</th>\n",
       "      <td>&lt;user&gt; i am bit confused coz chinese ppl can n...</td>\n",
       "      <td>hatespeech</td>\n",
       "      <td>[Asian]</td>\n",
       "      <td>1179088797964763136</td>\n",
       "      <td>twitter</td>\n",
       "      <td>HateXplain</td>\n",
       "      <td>hatespeech</td>\n",
       "      <td>hatespeech/offensive</td>\n",
       "      <td>hatespeech</td>\n",
       "      <td>{race}</td>\n",
       "    </tr>\n",
       "    <tr>\n",
       "      <th>4</th>\n",
       "      <td>this bitch in whataburger eating a burger with...</td>\n",
       "      <td>hatespeech</td>\n",
       "      <td>[Caucasian, Women]</td>\n",
       "      <td>1179085312976445440</td>\n",
       "      <td>twitter</td>\n",
       "      <td>HateXplain</td>\n",
       "      <td>hatespeech</td>\n",
       "      <td>hatespeech/offensive</td>\n",
       "      <td>hatespeech</td>\n",
       "      <td>{gender_sexuality, race}</td>\n",
       "    </tr>\n",
       "  </tbody>\n",
       "</table>\n",
       "</div>"
      ],
      "text/plain": [
       "                                                text original_label  \\\n",
       "0  i dont think im getting my baby them white 9 h...         normal   \n",
       "1  we cannot continue calling ourselves feminists...         normal   \n",
       "2                      nawt yall niggers ignoring me         normal   \n",
       "3  <user> i am bit confused coz chinese ppl can n...     hatespeech   \n",
       "4  this bitch in whataburger eating a burger with...     hatespeech   \n",
       "\n",
       "      original_target          original_id platform original_dataset_title  \\\n",
       "0              [None]  1179055004553900032  twitter             HateXplain   \n",
       "1              [None]  1179063826874032128  twitter             HateXplain   \n",
       "2           [African]  1178793830532956161  twitter             HateXplain   \n",
       "3             [Asian]  1179088797964763136  twitter             HateXplain   \n",
       "4  [Caucasian, Women]  1179085312976445440  twitter             HateXplain   \n",
       "\n",
       "  label_hatespeech_binary_offensive_not_included  \\\n",
       "0                                 not_hatespeech   \n",
       "1                                 not_hatespeech   \n",
       "2                                 not_hatespeech   \n",
       "3                                     hatespeech   \n",
       "4                                     hatespeech   \n",
       "\n",
       "  label_hatespeech_binary_offensive_included  \\\n",
       "0                                     normal   \n",
       "1                                     normal   \n",
       "2                                     normal   \n",
       "3                       hatespeech/offensive   \n",
       "4                       hatespeech/offensive   \n",
       "\n",
       "  label_normal_offensive_hatespeech          extracted_target  \n",
       "0                            normal                    {none}  \n",
       "1                            normal                    {none}  \n",
       "2                            normal                    {race}  \n",
       "3                        hatespeech                    {race}  \n",
       "4                        hatespeech  {gender_sexuality, race}  "
      ]
     },
     "execution_count": 38,
     "metadata": {},
     "output_type": "execute_result"
    }
   ],
   "source": [
    "merged_dfs.head()"
   ]
  },
  {
   "cell_type": "code",
   "execution_count": null,
   "metadata": {},
   "outputs": [
    {
     "data": {
      "text/plain": [
       "extracted_target\n",
       "{gender_sexuality}                             18319\n",
       "{other}                                        15594\n",
       "{race}                                          9555\n",
       "{none}                                          7715\n",
       "{other, race}                                   5171\n",
       "{other, gender_sexuality}                       3017\n",
       "{gender_sexuality, race}                        2172\n",
       "{disability}                                    1486\n",
       "{other, gender_sexuality, race}                  831\n",
       "{disability, other}                              693\n",
       "{disability, gender_sexuality}                   406\n",
       "{disability, gender_sexuality, race, other}      108\n",
       "{disability, race}                                61\n",
       "{disability, gender_sexuality, other}             61\n",
       "{disability, race, other}                         45\n",
       "{disability, gender_sexuality, race}              27\n",
       "Name: count, dtype: int64"
      ]
     },
     "execution_count": 39,
     "metadata": {},
     "output_type": "execute_result"
    }
   ],
   "source": [
    "merged_dfs['extracted_target'].value_counts()\n"
   ]
  },
  {
   "cell_type": "code",
   "execution_count": null,
   "metadata": {},
   "outputs": [
    {
     "data": {
      "text/plain": [
       "text\n",
       "<user> i hate you                                                                                                                                                                                                                                                                                                                                                                              14\n",
       "<user> y are u focusing on that when nazis exist                                                                                                                                                                                                                                                                                                                                                4\n",
       "<user> <number> bank islam                                                                                                                                                                                                                                                                                                                                                                      3\n",
       "<user> i fucking hate you                                                                                                                                                                                                                                                                                                                                                                       3\n",
       "niggas acting like bitches                                                                                                                                                                                                                                                                                                                                                                      2\n",
       "                                                                                                                                                                                                                                                                                                                                                                                               ..\n",
       "Loser, you dryed up bitch I fuck ugly broads like you just for sport                                                                                                                                                                                                                                                                                                                            1\n",
       "Thos fucking dirty fucking faggots                                                                                                                                                                                                                                                                                                                                                              1\n",
       "First of all, I'm not asking you to move to Israel, join the IDF, or to drop American citizenship. I'm recommending Jews claim their offered citizenship that comes from their blood. Secondly, why not try to get two dickheads on the ropes instead of just one?                                                                                                                              1\n",
       "Right??? It's REDDIT. Guys come here FOR PORN. Ohhh what a great bastion of intellectual accomplishment!!!! Truly a place where intellectual giants gather to discuss the most fundamental issues of our time : how to encourage the pretty white chick to post even more pics of her anus and what their Paypal password is to pay this prostitute. WOW!! Reddit - a fortress of geniuses.     1\n",
       "@user whats the ching chong stuff mean                                                                                                                                                                                                                                                                                                                                                          1\n",
       "Name: count, Length: 65217, dtype: int64"
      ]
     },
     "execution_count": 40,
     "metadata": {},
     "output_type": "execute_result"
    }
   ],
   "source": [
    "merged_dfs['text'].value_counts()"
   ]
  },
  {
   "cell_type": "code",
   "execution_count": null,
   "metadata": {},
   "outputs": [],
   "source": [
    "merged_dfs = merged_dfs.drop_duplicates(subset=['text'])\n"
   ]
  },
  {
   "cell_type": "code",
   "execution_count": null,
   "metadata": {},
   "outputs": [
    {
     "data": {
      "text/plain": [
       "text\n",
       "i dont think im getting my baby them white 9 he has two white j and nikes not even touched                                                                                                                                                                          1\n",
       "@soledadobrien Look at all the racist chanting. Photo snap them all and spread them around and see how they like that.                                                                                                                                              1\n",
       "@AnotherBenHong Real cruelty! Real racism! URL                                                                                                                                                                                                                      1\n",
       "@KatieDayXo You're brave! Sometimes I just can't stand the inevitable chatter that follows the truth. The best reaction I got was from a female lawyer who was describing business man culture and when I said I was an escort she simply said \"so you get it\" 😆    1\n",
       "Why are dudes so quick to shit on their \"bros\" for another female? 🤔 there are plenty of females capable of the same shit too. But it's something I'll never understand. 🤷🏼‍♀️                                                                                      1\n",
       "                                                                                                                                                                                                                                                                   ..\n",
       "Personally I want to fuck your dead mom.                                                                                                                                                                                                                            1\n",
       "I've always been into asian girls. Took me many years, but I married a hot asian. Patience and work pays off. Previous FA, now married with kids.                                                                                                                   1\n",
       "god that's so ignorant. wow. \"i'm not a christian so christian morality doesn't influence medical fields\". lmfao come back to me when you have even the tiniest inkling of critical thinking skills                                                                 1\n",
       "Bet you've claimed more head than ISIS.                                                                                                                                                                                                                             1\n",
       "@user whats the ching chong stuff mean                                                                                                                                                                                                                              1\n",
       "Name: count, Length: 65217, dtype: int64"
      ]
     },
     "execution_count": 42,
     "metadata": {},
     "output_type": "execute_result"
    }
   ],
   "source": [
    "merged_dfs['text'].value_counts()"
   ]
  },
  {
   "cell_type": "code",
   "execution_count": null,
   "metadata": {},
   "outputs": [
    {
     "data": {
      "text/plain": [
       "(65217, 10)"
      ]
     },
     "execution_count": 43,
     "metadata": {},
     "output_type": "execute_result"
    }
   ],
   "source": [
    "merged_dfs.shape"
   ]
  },
  {
   "cell_type": "code",
   "execution_count": null,
   "metadata": {},
   "outputs": [],
   "source": [
    "merged_dfs = merged_dfs.reset_index(drop=True)\n",
    "merged_dfs['id_new'] = merged_dfs.index + 1"
   ]
  },
  {
   "cell_type": "code",
   "execution_count": null,
   "metadata": {},
   "outputs": [],
   "source": [
    "d = dtale.show(merged_dfs)\n",
    "d.open_browser()"
   ]
  },
  {
   "cell_type": "code",
   "execution_count": null,
   "metadata": {},
   "outputs": [
    {
     "name": "stderr",
     "output_type": "stream",
     "text": [
      "2025-03-15 18:06:59,162 - INFO     - Shutdown complete\n"
     ]
    }
   ],
   "source": [
    "d.kill()"
   ]
  },
  {
   "cell_type": "code",
   "execution_count": null,
   "metadata": {},
   "outputs": [
    {
     "data": {
      "text/plain": [
       "['text',\n",
       " 'original_label',\n",
       " 'original_target',\n",
       " 'original_id',\n",
       " 'platform',\n",
       " 'original_dataset_title',\n",
       " 'label_hatespeech_binary_offensive_not_included',\n",
       " 'label_hatespeech_binary_offensive_included',\n",
       " 'label_normal_offensive_hatespeech',\n",
       " 'extracted_target',\n",
       " 'id_new']"
      ]
     },
     "execution_count": 47,
     "metadata": {},
     "output_type": "execute_result"
    }
   ],
   "source": [
    "merged_dfs.columns.to_list()"
   ]
  },
  {
   "cell_type": "code",
   "execution_count": null,
   "metadata": {},
   "outputs": [],
   "source": [
    "desired_order = ['id_new', 'text', 'extracted_target', 'label_hatespeech_binary_offensive_not_included',\n",
    "                'label_hatespeech_binary_offensive_included','label_normal_offensive_hatespeech',\n",
    "                'platform', 'original_dataset_title', 'original_id', 'original_label']\n",
    "merged_dfs = merged_dfs[desired_order]"
   ]
  },
  {
   "cell_type": "code",
   "execution_count": null,
   "metadata": {},
   "outputs": [],
   "source": [
    "d = dtale.show(merged_dfs)\n",
    "d.open_browser()"
   ]
  },
  {
   "cell_type": "code",
   "execution_count": null,
   "metadata": {},
   "outputs": [
    {
     "name": "stderr",
     "output_type": "stream",
     "text": [
      "2025-03-15 18:07:14,386 - INFO     - Executing shutdown...\n",
      "2025-03-15 18:07:14,387 - INFO     - Not running with the Werkzeug Server, exiting by searching gc for BaseWSGIServer\n"
     ]
    }
   ],
   "source": [
    "d.kill()"
   ]
  },
  {
   "cell_type": "code",
   "execution_count": null,
   "metadata": {},
   "outputs": [
    {
     "name": "stdout",
     "output_type": "stream",
     "text": [
      "DataFrame saved to /home/takosaga/Projects/master_thesis/data/processed/annotated_and_targeted_hatespeech.pkl\n"
     ]
    }
   ],
   "source": [
    "save_dataframe_as_pickle(merged_dfs, PROCESSED_DATA_DIR.as_posix() + '/annotated_and_targeted_hatespeech.pkl')\n",
    "\n"
   ]
  },
  {
   "cell_type": "code",
   "execution_count": null,
   "metadata": {},
   "outputs": [],
   "source": [
    "merged_dfs.to_csv(PROCESSED_DATA_DIR.as_posix() + '/annotated_and_targeted_hatespeech.csv', index=False)"
   ]
  }
 ],
 "metadata": {
  "kernelspec": {
   "display_name": "master_thesis",
   "language": "python",
   "name": "python3"
  },
  "language_info": {
   "codemirror_mode": {
    "name": "ipython",
    "version": 3
   },
   "file_extension": ".py",
   "mimetype": "text/x-python",
   "name": "python",
   "nbconvert_exporter": "python",
   "pygments_lexer": "ipython3",
   "version": "3.10.16"
  }
 },
 "nbformat": 4,
 "nbformat_minor": 2
}
