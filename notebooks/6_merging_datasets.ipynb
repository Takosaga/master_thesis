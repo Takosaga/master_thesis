{
 "cells": [
  {
   "cell_type": "markdown",
   "metadata": {},
   "source": [
    "# Merging Datasets\n",
    "\n",
    "This notebook details the process of merging multiple datasets into a single, unified dataset.  "
   ]
  },
  {
   "cell_type": "code",
   "execution_count": 1,
   "metadata": {},
   "outputs": [
    {
     "name": "stderr",
     "output_type": "stream",
     "text": [
      "\u001b[32m2025-03-15 18:06:56.862\u001b[0m | \u001b[1mINFO    \u001b[0m | \u001b[36mmaster_thesis.config\u001b[0m:\u001b[36m<module>\u001b[0m:\u001b[36m12\u001b[0m - \u001b[1mPROJ_ROOT path is: /home/takosaga/Projects/master_thesis\u001b[0m\n"
     ]
    }
   ],
   "source": [
    "import pandas as pd\n",
    "import numpy as np\n",
    "import dtale\n",
    "from master_thesis.config import INTERIM_DATA_DIR, PROCESSED_DATA_DIR, load_dataframe_from_pickle, save_dataframe_as_pickle"
   ]
  },
  {
   "cell_type": "code",
   "execution_count": 2,
   "metadata": {},
   "outputs": [],
   "source": [
    "prep_hatexplain_df = load_dataframe_from_pickle(INTERIM_DATA_DIR.as_posix() + '/prep_hatexplain_df.pkl')\n",
    "prep_measuring_hate_speech_df = load_dataframe_from_pickle(INTERIM_DATA_DIR.as_posix() + '/prep_measuring_hate_speech_df.pkl')\n",
    "prep_mlma_df = load_dataframe_from_pickle(INTERIM_DATA_DIR.as_posix() + '/prep_mlma_df.pkl')"
   ]
  },
  {
   "cell_type": "code",
   "execution_count": 3,
   "metadata": {},
   "outputs": [
    {
     "data": {
      "text/plain": [
       "text                                              object\n",
       "original_label                                    object\n",
       "original_target                                   object\n",
       "original_id                                       object\n",
       "platform                                          object\n",
       "original_dataset_title                            object\n",
       "label_hatespeech_binary_offensive_not_included    object\n",
       "label_hatespeech_binary_offensive_included        object\n",
       "label_normal_offensive_hatespeech                 object\n",
       "dtype: object"
      ]
     },
     "execution_count": 3,
     "metadata": {},
     "output_type": "execute_result"
    }
   ],
   "source": [
    "prep_hatexplain_df.dtypes"
   ]
  },
  {
   "cell_type": "code",
   "execution_count": 4,
   "metadata": {},
   "outputs": [
    {
     "data": {
      "text/plain": [
       "original_id                                         int32\n",
       "text                                               object\n",
       "original_label                                    float64\n",
       "platform                                           object\n",
       "original_target                                    object\n",
       "original_dataset_title                             object\n",
       "label_hatespeech_binary_offensive_not_included     object\n",
       "label_hatespeech_binary_offensive_included         object\n",
       "label_normal_offensive_hatespeech                  object\n",
       "dtype: object"
      ]
     },
     "execution_count": 4,
     "metadata": {},
     "output_type": "execute_result"
    }
   ],
   "source": [
    "prep_measuring_hate_speech_df.dtypes"
   ]
  },
  {
   "cell_type": "code",
   "execution_count": 5,
   "metadata": {},
   "outputs": [],
   "source": [
    "prep_measuring_hate_speech_df['original_id'] = prep_measuring_hate_speech_df['original_id'].astype('object')\n",
    "prep_measuring_hate_speech_df['original_label'] = prep_measuring_hate_speech_df['original_label'].astype('object')"
   ]
  },
  {
   "cell_type": "code",
   "execution_count": 6,
   "metadata": {},
   "outputs": [
    {
     "data": {
      "text/plain": [
       "original_id                                       object\n",
       "text                                              object\n",
       "original_label                                    object\n",
       "platform                                          object\n",
       "original_target                                   object\n",
       "original_dataset_title                            object\n",
       "label_hatespeech_binary_offensive_not_included    object\n",
       "label_hatespeech_binary_offensive_included        object\n",
       "label_normal_offensive_hatespeech                 object\n",
       "dtype: object"
      ]
     },
     "execution_count": 6,
     "metadata": {},
     "output_type": "execute_result"
    }
   ],
   "source": [
    "prep_measuring_hate_speech_df.dtypes"
   ]
  },
  {
   "cell_type": "code",
   "execution_count": 7,
   "metadata": {},
   "outputs": [
    {
     "data": {
      "text/plain": [
       "original_id                                        int64\n",
       "text                                              object\n",
       "original_label                                    object\n",
       "original_dataset_title                            object\n",
       "platform                                          object\n",
       "label_hatespeech_binary_offensive_not_included    object\n",
       "label_hatespeech_binary_offensive_included        object\n",
       "label_normal_offensive_hatespeech                 object\n",
       "original_target                                   object\n",
       "dtype: object"
      ]
     },
     "execution_count": 7,
     "metadata": {},
     "output_type": "execute_result"
    }
   ],
   "source": [
    "prep_mlma_df.dtypes"
   ]
  },
  {
   "cell_type": "code",
   "execution_count": 8,
   "metadata": {},
   "outputs": [],
   "source": [
    "prep_mlma_df['original_id'] = prep_mlma_df['original_id'].astype('object')"
   ]
  },
  {
   "cell_type": "code",
   "execution_count": 9,
   "metadata": {},
   "outputs": [
    {
     "data": {
      "text/plain": [
       "original_id                                       object\n",
       "text                                              object\n",
       "original_label                                    object\n",
       "original_dataset_title                            object\n",
       "platform                                          object\n",
       "label_hatespeech_binary_offensive_not_included    object\n",
       "label_hatespeech_binary_offensive_included        object\n",
       "label_normal_offensive_hatespeech                 object\n",
       "original_target                                   object\n",
       "dtype: object"
      ]
     },
     "execution_count": 9,
     "metadata": {},
     "output_type": "execute_result"
    }
   ],
   "source": [
    "prep_mlma_df.dtypes"
   ]
  },
  {
   "cell_type": "code",
   "execution_count": 10,
   "metadata": {},
   "outputs": [
    {
     "name": "stdout",
     "output_type": "stream",
     "text": [
      "Hatexplain shape: (20148, 9)\n",
      "MLMA shape:  (5646, 9)\n",
      "Measuring Hate Speech shape:  (39495, 9)\n"
     ]
    }
   ],
   "source": [
    "print('Hatexplain shape:',prep_hatexplain_df.shape)\n",
    "print('MLMA shape: ', prep_mlma_df.shape)\n",
    "print('Measuring Hate Speech shape: ', prep_measuring_hate_speech_df.shape)"
   ]
  },
  {
   "cell_type": "code",
   "execution_count": 11,
   "metadata": {},
   "outputs": [],
   "source": [
    "merged_dfs = pd.concat([prep_hatexplain_df, prep_measuring_hate_speech_df, prep_mlma_df], ignore_index=True)"
   ]
  },
  {
   "cell_type": "code",
   "execution_count": 12,
   "metadata": {},
   "outputs": [
    {
     "data": {
      "text/html": [
       "<div>\n",
       "<style scoped>\n",
       "    .dataframe tbody tr th:only-of-type {\n",
       "        vertical-align: middle;\n",
       "    }\n",
       "\n",
       "    .dataframe tbody tr th {\n",
       "        vertical-align: top;\n",
       "    }\n",
       "\n",
       "    .dataframe thead th {\n",
       "        text-align: right;\n",
       "    }\n",
       "</style>\n",
       "<table border=\"1\" class=\"dataframe\">\n",
       "  <thead>\n",
       "    <tr style=\"text-align: right;\">\n",
       "      <th></th>\n",
       "      <th>text</th>\n",
       "      <th>original_label</th>\n",
       "      <th>original_target</th>\n",
       "      <th>original_id</th>\n",
       "      <th>platform</th>\n",
       "      <th>original_dataset_title</th>\n",
       "      <th>label_hatespeech_binary_offensive_not_included</th>\n",
       "      <th>label_hatespeech_binary_offensive_included</th>\n",
       "      <th>label_normal_offensive_hatespeech</th>\n",
       "    </tr>\n",
       "  </thead>\n",
       "  <tbody>\n",
       "    <tr>\n",
       "      <th>0</th>\n",
       "      <td>i dont think im getting my baby them white 9 h...</td>\n",
       "      <td>normal</td>\n",
       "      <td>[None]</td>\n",
       "      <td>1179055004553900032</td>\n",
       "      <td>twitter</td>\n",
       "      <td>HateXplain</td>\n",
       "      <td>not_hatespeech</td>\n",
       "      <td>normal</td>\n",
       "      <td>normal</td>\n",
       "    </tr>\n",
       "    <tr>\n",
       "      <th>1</th>\n",
       "      <td>we cannot continue calling ourselves feminists...</td>\n",
       "      <td>normal</td>\n",
       "      <td>[None]</td>\n",
       "      <td>1179063826874032128</td>\n",
       "      <td>twitter</td>\n",
       "      <td>HateXplain</td>\n",
       "      <td>not_hatespeech</td>\n",
       "      <td>normal</td>\n",
       "      <td>normal</td>\n",
       "    </tr>\n",
       "    <tr>\n",
       "      <th>2</th>\n",
       "      <td>nawt yall niggers ignoring me</td>\n",
       "      <td>normal</td>\n",
       "      <td>[African]</td>\n",
       "      <td>1178793830532956161</td>\n",
       "      <td>twitter</td>\n",
       "      <td>HateXplain</td>\n",
       "      <td>not_hatespeech</td>\n",
       "      <td>normal</td>\n",
       "      <td>normal</td>\n",
       "    </tr>\n",
       "    <tr>\n",
       "      <th>3</th>\n",
       "      <td>&lt;user&gt; i am bit confused coz chinese ppl can n...</td>\n",
       "      <td>hatespeech</td>\n",
       "      <td>[Asian]</td>\n",
       "      <td>1179088797964763136</td>\n",
       "      <td>twitter</td>\n",
       "      <td>HateXplain</td>\n",
       "      <td>hatespeech</td>\n",
       "      <td>hatespeech/offensive</td>\n",
       "      <td>hatespeech</td>\n",
       "    </tr>\n",
       "    <tr>\n",
       "      <th>4</th>\n",
       "      <td>this bitch in whataburger eating a burger with...</td>\n",
       "      <td>hatespeech</td>\n",
       "      <td>[Caucasian, Women]</td>\n",
       "      <td>1179085312976445440</td>\n",
       "      <td>twitter</td>\n",
       "      <td>HateXplain</td>\n",
       "      <td>hatespeech</td>\n",
       "      <td>hatespeech/offensive</td>\n",
       "      <td>hatespeech</td>\n",
       "    </tr>\n",
       "  </tbody>\n",
       "</table>\n",
       "</div>"
      ],
      "text/plain": [
       "                                                text original_label  \\\n",
       "0  i dont think im getting my baby them white 9 h...         normal   \n",
       "1  we cannot continue calling ourselves feminists...         normal   \n",
       "2                      nawt yall niggers ignoring me         normal   \n",
       "3  <user> i am bit confused coz chinese ppl can n...     hatespeech   \n",
       "4  this bitch in whataburger eating a burger with...     hatespeech   \n",
       "\n",
       "      original_target          original_id platform original_dataset_title  \\\n",
       "0              [None]  1179055004553900032  twitter             HateXplain   \n",
       "1              [None]  1179063826874032128  twitter             HateXplain   \n",
       "2           [African]  1178793830532956161  twitter             HateXplain   \n",
       "3             [Asian]  1179088797964763136  twitter             HateXplain   \n",
       "4  [Caucasian, Women]  1179085312976445440  twitter             HateXplain   \n",
       "\n",
       "  label_hatespeech_binary_offensive_not_included  \\\n",
       "0                                 not_hatespeech   \n",
       "1                                 not_hatespeech   \n",
       "2                                 not_hatespeech   \n",
       "3                                     hatespeech   \n",
       "4                                     hatespeech   \n",
       "\n",
       "  label_hatespeech_binary_offensive_included label_normal_offensive_hatespeech  \n",
       "0                                     normal                            normal  \n",
       "1                                     normal                            normal  \n",
       "2                                     normal                            normal  \n",
       "3                       hatespeech/offensive                        hatespeech  \n",
       "4                       hatespeech/offensive                        hatespeech  "
      ]
     },
     "execution_count": 12,
     "metadata": {},
     "output_type": "execute_result"
    }
   ],
   "source": [
    "merged_dfs.head()"
   ]
  },
  {
   "cell_type": "code",
   "execution_count": 13,
   "metadata": {},
   "outputs": [],
   "source": [
    "d = dtale.show(merged_dfs)\n",
    "d.open_browser()"
   ]
  },
  {
   "cell_type": "code",
   "execution_count": 14,
   "metadata": {},
   "outputs": [
    {
     "name": "stderr",
     "output_type": "stream",
     "text": [
      "2025-03-15 18:06:57,401 - INFO     - Shutdown complete\n"
     ]
    }
   ],
   "source": [
    "d.kill()"
   ]
  },
  {
   "cell_type": "code",
   "execution_count": 15,
   "metadata": {},
   "outputs": [
    {
     "data": {
      "text/plain": [
       "platform\n",
       "twitter    30148\n",
       "reddit     15842\n",
       "gab        11093\n",
       "youtube     8178\n",
       "nf_6           9\n",
       "nf_2           8\n",
       "nf_4           7\n",
       "nf_3           2\n",
       "nf_1           2\n",
       "Name: count, dtype: int64"
      ]
     },
     "execution_count": 15,
     "metadata": {},
     "output_type": "execute_result"
    }
   ],
   "source": [
    "merged_dfs['platform'].value_counts()"
   ]
  },
  {
   "cell_type": "code",
   "execution_count": 16,
   "metadata": {},
   "outputs": [],
   "source": [
    "values_to_remove = ['nf_6', 'nf_2', 'nf_4', 'nf_3', 'nf_1']\n"
   ]
  },
  {
   "cell_type": "code",
   "execution_count": 17,
   "metadata": {},
   "outputs": [
    {
     "data": {
      "text/plain": [
       "platform\n",
       "twitter    30148\n",
       "reddit     15842\n",
       "gab        11093\n",
       "youtube     8178\n",
       "Name: count, dtype: int64"
      ]
     },
     "execution_count": 17,
     "metadata": {},
     "output_type": "execute_result"
    }
   ],
   "source": [
    "merged_dfs = merged_dfs[~merged_dfs['platform'].isin(values_to_remove)]\n",
    "merged_dfs['platform'].value_counts()"
   ]
  },
  {
   "cell_type": "code",
   "execution_count": 18,
   "metadata": {},
   "outputs": [
    {
     "data": {
      "text/plain": [
       "original_dataset_title\n",
       "Measuring Hate Speech    39495\n",
       "HateXplain               20120\n",
       "MLMA                      5646\n",
       "Name: count, dtype: int64"
      ]
     },
     "execution_count": 18,
     "metadata": {},
     "output_type": "execute_result"
    }
   ],
   "source": [
    "merged_dfs['original_dataset_title'].value_counts()"
   ]
  },
  {
   "cell_type": "code",
   "execution_count": 19,
   "metadata": {},
   "outputs": [
    {
     "data": {
      "text/plain": [
       "original_target\n",
       "[None]                                                                                                                                               6569\n",
       "[women, gender]                                                                                                                                      6335\n",
       "[black, race]                                                                                                                                        2580\n",
       "[African]                                                                                                                                            2271\n",
       "[specific_country, origin]                                                                                                                           2118\n",
       "                                                                                                                                                     ... \n",
       "[latinx, other, race, immigrant, other, origin]                                                                                                         1\n",
       "[atheist, buddhist, christian, hindu, jewish, mormon, muslim, other, religion, immigrant, migrant_worker, specific_country, undocumented, origin]       1\n",
       "[men, gender, bisexual, gay, straight, sexuality, cognitive, neurological, disability]                                                                  1\n",
       "[men, women, gender, straight, other, sexuality]                                                                                                        1\n",
       "[religion, indian/hindu]                                                                                                                                1\n",
       "Name: count, Length: 3475, dtype: int64"
      ]
     },
     "execution_count": 19,
     "metadata": {},
     "output_type": "execute_result"
    }
   ],
   "source": [
    "merged_dfs['original_target'].value_counts()"
   ]
  },
  {
   "cell_type": "markdown",
   "metadata": {},
   "source": [
    "I want to extract original targets to simiplify to calls out real or perceived “identity factors” of an individual or a group, including: “religion, ethnicity, nationality, race, colour, descent, gender, but also characteristics such as language, economic or social origin, disability, health status, or sexual orientation, among many others."
   ]
  },
  {
   "cell_type": "code",
   "execution_count": 20,
   "metadata": {},
   "outputs": [],
   "source": [
    "# to get all the unique values in orginal_target\n",
    "flattened_list = [item for sublist in merged_dfs['original_target'] for item in sublist if item]\n",
    "flattened_list = [item.lower() for item in flattened_list]\n",
    "all_targets = list(set(flattened_list))"
   ]
  },
  {
   "cell_type": "code",
   "execution_count": 21,
   "metadata": {},
   "outputs": [
    {
     "data": {
      "text/plain": [
       "['sexual_orientation',\n",
       " 'buddhist',\n",
       " 'race',\n",
       " 'teenagers',\n",
       " 'migrant_worker',\n",
       " 'african_descent',\n",
       " 'jewish',\n",
       " 'immigrant',\n",
       " 'transgender_men',\n",
       " 'mormon',\n",
       " 'muslims',\n",
       " 'caucasian',\n",
       " 'muslim',\n",
       " 'indian',\n",
       " 'homosexual',\n",
       " 'christian',\n",
       " 'men',\n",
       " 'economic',\n",
       " 'cognitive',\n",
       " 'immigrants',\n",
       " 'age',\n",
       " 'arabs',\n",
       " 'asian',\n",
       " 'atheist',\n",
       " 'none',\n",
       " 'gay',\n",
       " 'other',\n",
       " 'gender',\n",
       " 'indigenous',\n",
       " 'neurological',\n",
       " 'disability',\n",
       " 'asians',\n",
       " 'pacific_islander',\n",
       " 'transgender_unspecified',\n",
       " 'black',\n",
       " 'undocumented',\n",
       " 'white',\n",
       " 'latinx',\n",
       " 'visually_impaired',\n",
       " 'unspecific',\n",
       " 'hispanic',\n",
       " 'bisexual',\n",
       " 'african',\n",
       " 'refugee',\n",
       " 'special_needs',\n",
       " 'hispanics',\n",
       " 'arab',\n",
       " 'middle_eastern',\n",
       " 'young_adults',\n",
       " 'women',\n",
       " 'physical',\n",
       " 'buddhism',\n",
       " 'religion',\n",
       " 'native_american',\n",
       " 'hindu',\n",
       " 'jews',\n",
       " 'seniors',\n",
       " 'non_binary',\n",
       " 'sexuality',\n",
       " 'individual',\n",
       " 'transgender_women',\n",
       " 'left_wing_people',\n",
       " 'islam',\n",
       " 'specific_country',\n",
       " 'lesbian',\n",
       " 'children',\n",
       " 'hearing_impaired',\n",
       " 'straight',\n",
       " 'indian/hindu',\n",
       " 'middle_aged',\n",
       " 'origin',\n",
       " 'refugees']"
      ]
     },
     "execution_count": 21,
     "metadata": {},
     "output_type": "execute_result"
    }
   ],
   "source": [
    "all_targets"
   ]
  },
  {
   "cell_type": "code",
   "execution_count": 22,
   "metadata": {},
   "outputs": [
    {
     "data": {
      "text/plain": [
       "\"\\nFor all the targets from \\n'target_race_asian',\\n'target_race_black',\\n'target_race_latinx',\\n'target_race_middle_eastern',\\n'target_race_native_american',\\n'target_race_pacific_islander',\\n'target_race_white',\\n'target_race_other',\\n'target_race',\\n'target_religion_atheist',\\n'target_religion_buddhist',\\n'target_religion_christian',\\n'target_religion_hindu',\\n'target_religion_jewish',\\n'target_religion_mormon',\\n'target_religion_muslim',\\n'target_religion_other',\\n'target_religion',\\n'target_origin_immigrant',\\n'target_origin_migrant_worker',\\n'target_origin_specific_country',\\n'target_origin_undocumented',\\n'target_origin_other',\\n'target_origin',\\n'target_gender_men',\\n'target_gender_non_binary',\\n'target_gender_transgender_men',\\n'target_gender_transgender_unspecified',\\n'target_gender_transgender_women',\\n'target_gender_women',\\n'target_gender_other',\\n'target_gender',\\n'target_sexuality_bisexual',\\n'target_sexuality_gay',\\n'target_sexuality_lesbian',\\n'target_sexuality_straight',\\n'target_sexuality_other',\\n'target_sexuality',\\n'target_age_children',\\n'target_age_teenagers',\\n'target_age_young_adults',\\n'target_age_middle_aged',\\n'target_age_seniors',\\n'target_age_other',\\n'target_age',\\n'target_disability_physical',\\n'target_disability_cognitive',\\n'target_disability_neurological',\\n'target_disability_visually_impaired',\\n'target_disability_hearing_impaired',\\n'target_disability_unspecific',\\n'target_disability_other',\\n'target_disability'\\n\""
      ]
     },
     "execution_count": 22,
     "metadata": {},
     "output_type": "execute_result"
    }
   ],
   "source": [
    "\"\"\"\n",
    "For all the targets from \n",
    "'target_race_asian',\n",
    "'target_race_black',\n",
    "'target_race_latinx',\n",
    "'target_race_middle_eastern',\n",
    "'target_race_native_american',\n",
    "'target_race_pacific_islander',\n",
    "'target_race_white',\n",
    "'target_race_other',\n",
    "'target_race',\n",
    "'target_religion_atheist',\n",
    "'target_religion_buddhist',\n",
    "'target_religion_christian',\n",
    "'target_religion_hindu',\n",
    "'target_religion_jewish',\n",
    "'target_religion_mormon',\n",
    "'target_religion_muslim',\n",
    "'target_religion_other',\n",
    "'target_religion',\n",
    "'target_origin_immigrant',\n",
    "'target_origin_migrant_worker',\n",
    "'target_origin_specific_country',\n",
    "'target_origin_undocumented',\n",
    "'target_origin_other',\n",
    "'target_origin',\n",
    "'target_gender_men',\n",
    "'target_gender_non_binary',\n",
    "'target_gender_transgender_men',\n",
    "'target_gender_transgender_unspecified',\n",
    "'target_gender_transgender_women',\n",
    "'target_gender_women',\n",
    "'target_gender_other',\n",
    "'target_gender',\n",
    "'target_sexuality_bisexual',\n",
    "'target_sexuality_gay',\n",
    "'target_sexuality_lesbian',\n",
    "'target_sexuality_straight',\n",
    "'target_sexuality_other',\n",
    "'target_sexuality',\n",
    "'target_age_children',\n",
    "'target_age_teenagers',\n",
    "'target_age_young_adults',\n",
    "'target_age_middle_aged',\n",
    "'target_age_seniors',\n",
    "'target_age_other',\n",
    "'target_age',\n",
    "'target_disability_physical',\n",
    "'target_disability_cognitive',\n",
    "'target_disability_neurological',\n",
    "'target_disability_visually_impaired',\n",
    "'target_disability_hearing_impaired',\n",
    "'target_disability_unspecific',\n",
    "'target_disability_other',\n",
    "'target_disability'\n",
    "\"\"\""
   ]
  },
  {
   "cell_type": "markdown",
   "metadata": {},
   "source": [
    "The following made from the limitations of hurtlex lexicon"
   ]
  },
  {
   "cell_type": "code",
   "execution_count": 23,
   "metadata": {},
   "outputs": [],
   "source": [
    "race_labels = ['asian', 'black', 'latinx', 'middle_eastern', \n",
    "                'native_american', 'pacific_islander', 'white', 'race']\n",
    "gender_sexuality_labels = ['gender','men','non_binary', 'transgender_men', 'transgender_unspecified',\n",
    "                'transgender_women', 'women', 'sexuality', 'bisexual', 'gay', 'lesbian', 'straight']\n",
    "disability_labels = ['disability','physical','cognitive','neurological','visually_impaired',\n",
    "                'hearing_impaired','unspecific']\n",
    "other_lables = ['religion', 'atheist', 'buddhist', 'christian', 'hindu', 'jewish', 'mormon',\n",
    "                'muslim', 'immigrant', 'migrant_worker', 'specific_country', 'undocumented', 'origin',\n",
    "                'age', 'children', 'teenagers', 'young_adults', 'middle_aged', 'seniors']"
   ]
  },
  {
   "cell_type": "code",
   "execution_count": 24,
   "metadata": {},
   "outputs": [],
   "source": [
    "race = []\n",
    "for label in race_labels:\n",
    "    all_targets.remove(label)\n",
    "    race.append(label)\n",
    "    "
   ]
  },
  {
   "cell_type": "code",
   "execution_count": 25,
   "metadata": {},
   "outputs": [],
   "source": [
    "gender_sexuality = []\n",
    "for label in gender_sexuality_labels:\n",
    "    all_targets.remove(label)\n",
    "    gender_sexuality.append(label)\n",
    "    \n"
   ]
  },
  {
   "cell_type": "code",
   "execution_count": 26,
   "metadata": {},
   "outputs": [],
   "source": [
    "disability = []\n",
    "for label in disability_labels:\n",
    "    all_targets.remove(label)\n",
    "    disability.append(label)\n"
   ]
  },
  {
   "cell_type": "code",
   "execution_count": 27,
   "metadata": {},
   "outputs": [],
   "source": [
    "\n",
    "other = []\n",
    "for label in other_lables:\n",
    "    all_targets.remove(label)\n",
    "    other.append(label)"
   ]
  },
  {
   "cell_type": "code",
   "execution_count": 28,
   "metadata": {},
   "outputs": [
    {
     "data": {
      "text/plain": [
       "['sexual_orientation',\n",
       " 'african_descent',\n",
       " 'muslims',\n",
       " 'caucasian',\n",
       " 'indian',\n",
       " 'homosexual',\n",
       " 'economic',\n",
       " 'immigrants',\n",
       " 'arabs',\n",
       " 'none',\n",
       " 'other',\n",
       " 'indigenous',\n",
       " 'asians',\n",
       " 'hispanic',\n",
       " 'african',\n",
       " 'refugee',\n",
       " 'special_needs',\n",
       " 'hispanics',\n",
       " 'arab',\n",
       " 'buddhism',\n",
       " 'jews',\n",
       " 'individual',\n",
       " 'left_wing_people',\n",
       " 'islam',\n",
       " 'indian/hindu',\n",
       " 'refugees']"
      ]
     },
     "execution_count": 28,
     "metadata": {},
     "output_type": "execute_result"
    }
   ],
   "source": [
    "all_targets"
   ]
  },
  {
   "cell_type": "code",
   "execution_count": 29,
   "metadata": {},
   "outputs": [],
   "source": [
    "more_race_labels = ['african_descent', 'indian/hindu', 'hispanics', 'african', 'arab', 'arabs', 'caucasian', 'hispanic', 'indian',\n",
    "                    'asians']          \n",
    "\n",
    "more_gender_sexuality_labels = ['homosexual', 'sexual_orientation']\n",
    "more_disability_labels = ['special_needs']\n",
    "more_other_labels = ['indigenous','economic', 'immigrants', 'refugee', 'left_wing_people','buddhism', 'other', 'jews', 'muslims', \n",
    "                    'individual', 'islam', 'refugees']"
   ]
  },
  {
   "cell_type": "code",
   "execution_count": 30,
   "metadata": {},
   "outputs": [
    {
     "name": "stdout",
     "output_type": "stream",
     "text": [
      "removing african_descent from all_targets\n",
      "removing indian/hindu from all_targets\n",
      "removing hispanics from all_targets\n",
      "removing african from all_targets\n",
      "removing arab from all_targets\n",
      "removing arabs from all_targets\n",
      "removing caucasian from all_targets\n",
      "removing hispanic from all_targets\n",
      "removing indian from all_targets\n",
      "removing asians from all_targets\n"
     ]
    }
   ],
   "source": [
    "for label in more_race_labels:\n",
    "    if label in all_targets:\n",
    "        print(f\"removing {label} from all_targets\")\n",
    "        all_targets.remove(label)\n",
    "        race.append(label)\n",
    "    else:\n",
    "        print(f\"{label} not found in all_targets\")\n",
    "        "
   ]
  },
  {
   "cell_type": "code",
   "execution_count": 31,
   "metadata": {},
   "outputs": [
    {
     "name": "stdout",
     "output_type": "stream",
     "text": [
      "removing homosexual from all_targets\n",
      "removing sexual_orientation from all_targets\n"
     ]
    }
   ],
   "source": [
    "\n",
    "for label in more_gender_sexuality_labels:\n",
    "    if label in all_targets:\n",
    "        print(f\"removing {label} from all_targets\")\n",
    "        all_targets.remove(label)\n",
    "        gender_sexuality.append(label)\n",
    "    else:\n",
    "        print(f\"{label} not found in all_targets\")\n"
   ]
  },
  {
   "cell_type": "code",
   "execution_count": 32,
   "metadata": {},
   "outputs": [
    {
     "name": "stdout",
     "output_type": "stream",
     "text": [
      "removing special_needs from all_targets\n"
     ]
    }
   ],
   "source": [
    "\n",
    "for label in more_disability_labels:\n",
    "    if label in all_targets:\n",
    "        print(f\"removing {label} from all_targets\")\n",
    "        all_targets.remove(label)\n",
    "        disability.append(label)\n",
    "    else:\n",
    "        print(f\"{label} not found in all_targets\")\n"
   ]
  },
  {
   "cell_type": "code",
   "execution_count": 33,
   "metadata": {},
   "outputs": [
    {
     "name": "stdout",
     "output_type": "stream",
     "text": [
      "removing indigenous from all_targets\n",
      "removing economic from all_targets\n",
      "removing immigrants from all_targets\n",
      "removing refugee from all_targets\n",
      "removing left_wing_people from all_targets\n",
      "removing buddhism from all_targets\n",
      "removing other from all_targets\n",
      "removing jews from all_targets\n",
      "removing muslims from all_targets\n",
      "removing individual from all_targets\n",
      "removing islam from all_targets\n",
      "removing refugees from all_targets\n"
     ]
    }
   ],
   "source": [
    "\n",
    "for label in more_other_labels:\n",
    "    if label in all_targets:\n",
    "        print(f\"removing {label} from all_targets\")\n",
    "        all_targets.remove(label)\n",
    "        other.append(label)\n",
    "    else:\n",
    "        print(f\"{label} not found in all_targets\")\n",
    "        "
   ]
  },
  {
   "cell_type": "code",
   "execution_count": 34,
   "metadata": {},
   "outputs": [
    {
     "data": {
      "text/plain": [
       "['none']"
      ]
     },
     "execution_count": 34,
     "metadata": {},
     "output_type": "execute_result"
    }
   ],
   "source": [
    "all_targets"
   ]
  },
  {
   "cell_type": "code",
   "execution_count": 35,
   "metadata": {},
   "outputs": [
    {
     "name": "stdout",
     "output_type": "stream",
     "text": [
      "races: ['asian', 'black', 'latinx', 'middle_eastern', 'native_american', 'pacific_islander', 'white', 'race', 'african_descent', 'indian/hindu', 'hispanics', 'african', 'arab', 'arabs', 'caucasian', 'hispanic', 'indian', 'asians']\n",
      "gender_sexuality: ['gender', 'men', 'non_binary', 'transgender_men', 'transgender_unspecified', 'transgender_women', 'women', 'sexuality', 'bisexual', 'gay', 'lesbian', 'straight', 'homosexual', 'sexual_orientation']\n",
      "disability: ['disability', 'physical', 'cognitive', 'neurological', 'visually_impaired', 'hearing_impaired', 'unspecific', 'special_needs']\n",
      "other: ['religion', 'atheist', 'buddhist', 'christian', 'hindu', 'jewish', 'mormon', 'muslim', 'immigrant', 'migrant_worker', 'specific_country', 'undocumented', 'origin', 'age', 'children', 'teenagers', 'young_adults', 'middle_aged', 'seniors', 'indigenous', 'economic', 'immigrants', 'refugee', 'left_wing_people', 'buddhism', 'other', 'jews', 'muslims', 'individual', 'islam', 'refugees']\n"
     ]
    }
   ],
   "source": [
    "print(f\"races: {race}\")\n",
    "print(f\"gender_sexuality: {gender_sexuality}\")\n",
    "print(f\"disability: {disability}\")\n",
    "print(f\"other: {other}\")"
   ]
  },
  {
   "cell_type": "code",
   "execution_count": 36,
   "metadata": {},
   "outputs": [],
   "source": [
    "def extract_target(target_list):\n",
    "\n",
    "    \n",
    "    result = set()\n",
    "    for item in target_list:\n",
    "        item_lower = item.lower()\n",
    "        if item_lower in race:\n",
    "            result.add('race')\n",
    "        elif item_lower in gender_sexuality:\n",
    "            result.add('gender_sexuality')\n",
    "        elif item_lower in disability:\n",
    "            result.add('disability')\n",
    "        elif item_lower in other:\n",
    "            result.add('other')\n",
    "    \n",
    "    return result if result else {'none'}"
   ]
  },
  {
   "cell_type": "code",
   "execution_count": 37,
   "metadata": {},
   "outputs": [],
   "source": [
    "merged_dfs['extracted_target'] = merged_dfs['original_target'].apply(extract_target)\n"
   ]
  },
  {
   "cell_type": "code",
   "execution_count": 38,
   "metadata": {},
   "outputs": [
    {
     "data": {
      "text/html": [
       "<div>\n",
       "<style scoped>\n",
       "    .dataframe tbody tr th:only-of-type {\n",
       "        vertical-align: middle;\n",
       "    }\n",
       "\n",
       "    .dataframe tbody tr th {\n",
       "        vertical-align: top;\n",
       "    }\n",
       "\n",
       "    .dataframe thead th {\n",
       "        text-align: right;\n",
       "    }\n",
       "</style>\n",
       "<table border=\"1\" class=\"dataframe\">\n",
       "  <thead>\n",
       "    <tr style=\"text-align: right;\">\n",
       "      <th></th>\n",
       "      <th>text</th>\n",
       "      <th>original_label</th>\n",
       "      <th>original_target</th>\n",
       "      <th>original_id</th>\n",
       "      <th>platform</th>\n",
       "      <th>original_dataset_title</th>\n",
       "      <th>label_hatespeech_binary_offensive_not_included</th>\n",
       "      <th>label_hatespeech_binary_offensive_included</th>\n",
       "      <th>label_normal_offensive_hatespeech</th>\n",
       "      <th>extracted_target</th>\n",
       "    </tr>\n",
       "  </thead>\n",
       "  <tbody>\n",
       "    <tr>\n",
       "      <th>0</th>\n",
       "      <td>i dont think im getting my baby them white 9 h...</td>\n",
       "      <td>normal</td>\n",
       "      <td>[None]</td>\n",
       "      <td>1179055004553900032</td>\n",
       "      <td>twitter</td>\n",
       "      <td>HateXplain</td>\n",
       "      <td>not_hatespeech</td>\n",
       "      <td>normal</td>\n",
       "      <td>normal</td>\n",
       "      <td>{none}</td>\n",
       "    </tr>\n",
       "    <tr>\n",
       "      <th>1</th>\n",
       "      <td>we cannot continue calling ourselves feminists...</td>\n",
       "      <td>normal</td>\n",
       "      <td>[None]</td>\n",
       "      <td>1179063826874032128</td>\n",
       "      <td>twitter</td>\n",
       "      <td>HateXplain</td>\n",
       "      <td>not_hatespeech</td>\n",
       "      <td>normal</td>\n",
       "      <td>normal</td>\n",
       "      <td>{none}</td>\n",
       "    </tr>\n",
       "    <tr>\n",
       "      <th>2</th>\n",
       "      <td>nawt yall niggers ignoring me</td>\n",
       "      <td>normal</td>\n",
       "      <td>[African]</td>\n",
       "      <td>1178793830532956161</td>\n",
       "      <td>twitter</td>\n",
       "      <td>HateXplain</td>\n",
       "      <td>not_hatespeech</td>\n",
       "      <td>normal</td>\n",
       "      <td>normal</td>\n",
       "      <td>{race}</td>\n",
       "    </tr>\n",
       "    <tr>\n",
       "      <th>3</th>\n",
       "      <td>&lt;user&gt; i am bit confused coz chinese ppl can n...</td>\n",
       "      <td>hatespeech</td>\n",
       "      <td>[Asian]</td>\n",
       "      <td>1179088797964763136</td>\n",
       "      <td>twitter</td>\n",
       "      <td>HateXplain</td>\n",
       "      <td>hatespeech</td>\n",
       "      <td>hatespeech/offensive</td>\n",
       "      <td>hatespeech</td>\n",
       "      <td>{race}</td>\n",
       "    </tr>\n",
       "    <tr>\n",
       "      <th>4</th>\n",
       "      <td>this bitch in whataburger eating a burger with...</td>\n",
       "      <td>hatespeech</td>\n",
       "      <td>[Caucasian, Women]</td>\n",
       "      <td>1179085312976445440</td>\n",
       "      <td>twitter</td>\n",
       "      <td>HateXplain</td>\n",
       "      <td>hatespeech</td>\n",
       "      <td>hatespeech/offensive</td>\n",
       "      <td>hatespeech</td>\n",
       "      <td>{gender_sexuality, race}</td>\n",
       "    </tr>\n",
       "  </tbody>\n",
       "</table>\n",
       "</div>"
      ],
      "text/plain": [
       "                                                text original_label  \\\n",
       "0  i dont think im getting my baby them white 9 h...         normal   \n",
       "1  we cannot continue calling ourselves feminists...         normal   \n",
       "2                      nawt yall niggers ignoring me         normal   \n",
       "3  <user> i am bit confused coz chinese ppl can n...     hatespeech   \n",
       "4  this bitch in whataburger eating a burger with...     hatespeech   \n",
       "\n",
       "      original_target          original_id platform original_dataset_title  \\\n",
       "0              [None]  1179055004553900032  twitter             HateXplain   \n",
       "1              [None]  1179063826874032128  twitter             HateXplain   \n",
       "2           [African]  1178793830532956161  twitter             HateXplain   \n",
       "3             [Asian]  1179088797964763136  twitter             HateXplain   \n",
       "4  [Caucasian, Women]  1179085312976445440  twitter             HateXplain   \n",
       "\n",
       "  label_hatespeech_binary_offensive_not_included  \\\n",
       "0                                 not_hatespeech   \n",
       "1                                 not_hatespeech   \n",
       "2                                 not_hatespeech   \n",
       "3                                     hatespeech   \n",
       "4                                     hatespeech   \n",
       "\n",
       "  label_hatespeech_binary_offensive_included  \\\n",
       "0                                     normal   \n",
       "1                                     normal   \n",
       "2                                     normal   \n",
       "3                       hatespeech/offensive   \n",
       "4                       hatespeech/offensive   \n",
       "\n",
       "  label_normal_offensive_hatespeech          extracted_target  \n",
       "0                            normal                    {none}  \n",
       "1                            normal                    {none}  \n",
       "2                            normal                    {race}  \n",
       "3                        hatespeech                    {race}  \n",
       "4                        hatespeech  {gender_sexuality, race}  "
      ]
     },
     "execution_count": 38,
     "metadata": {},
     "output_type": "execute_result"
    }
   ],
   "source": [
    "merged_dfs.head()"
   ]
  },
  {
   "cell_type": "code",
   "execution_count": 39,
   "metadata": {},
   "outputs": [
    {
     "data": {
      "text/plain": [
       "extracted_target\n",
       "{gender_sexuality}                             18319\n",
       "{other}                                        15594\n",
       "{race}                                          9555\n",
       "{none}                                          7715\n",
       "{other, race}                                   5171\n",
       "{other, gender_sexuality}                       3017\n",
       "{gender_sexuality, race}                        2172\n",
       "{disability}                                    1486\n",
       "{other, gender_sexuality, race}                  831\n",
       "{disability, other}                              693\n",
       "{disability, gender_sexuality}                   406\n",
       "{disability, gender_sexuality, race, other}      108\n",
       "{disability, race}                                61\n",
       "{disability, gender_sexuality, other}             61\n",
       "{disability, race, other}                         45\n",
       "{disability, gender_sexuality, race}              27\n",
       "Name: count, dtype: int64"
      ]
     },
     "execution_count": 39,
     "metadata": {},
     "output_type": "execute_result"
    }
   ],
   "source": [
    "merged_dfs['extracted_target'].value_counts()\n"
   ]
  },
  {
   "cell_type": "code",
   "execution_count": 40,
   "metadata": {},
   "outputs": [
    {
     "data": {
      "text/plain": [
       "text\n",
       "<user> i hate you                                                                                                                                                                                                                                                                                                                                                                              14\n",
       "<user> y are u focusing on that when nazis exist                                                                                                                                                                                                                                                                                                                                                4\n",
       "<user> <number> bank islam                                                                                                                                                                                                                                                                                                                                                                      3\n",
       "<user> i fucking hate you                                                                                                                                                                                                                                                                                                                                                                       3\n",
       "niggas acting like bitches                                                                                                                                                                                                                                                                                                                                                                      2\n",
       "                                                                                                                                                                                                                                                                                                                                                                                               ..\n",
       "Loser, you dryed up bitch I fuck ugly broads like you just for sport                                                                                                                                                                                                                                                                                                                            1\n",
       "Thos fucking dirty fucking faggots                                                                                                                                                                                                                                                                                                                                                              1\n",
       "First of all, I'm not asking you to move to Israel, join the IDF, or to drop American citizenship. I'm recommending Jews claim their offered citizenship that comes from their blood. Secondly, why not try to get two dickheads on the ropes instead of just one?                                                                                                                              1\n",
       "Right??? It's REDDIT. Guys come here FOR PORN. Ohhh what a great bastion of intellectual accomplishment!!!! Truly a place where intellectual giants gather to discuss the most fundamental issues of our time : how to encourage the pretty white chick to post even more pics of her anus and what their Paypal password is to pay this prostitute. WOW!! Reddit - a fortress of geniuses.     1\n",
       "@user whats the ching chong stuff mean                                                                                                                                                                                                                                                                                                                                                          1\n",
       "Name: count, Length: 65217, dtype: int64"
      ]
     },
     "execution_count": 40,
     "metadata": {},
     "output_type": "execute_result"
    }
   ],
   "source": [
    "merged_dfs['text'].value_counts()"
   ]
  },
  {
   "cell_type": "code",
   "execution_count": 41,
   "metadata": {},
   "outputs": [],
   "source": [
    "merged_dfs = merged_dfs.drop_duplicates(subset=['text'])\n"
   ]
  },
  {
   "cell_type": "code",
   "execution_count": 42,
   "metadata": {},
   "outputs": [
    {
     "data": {
      "text/plain": [
       "text\n",
       "i dont think im getting my baby them white 9 he has two white j and nikes not even touched                                                                                                                                                                          1\n",
       "@soledadobrien Look at all the racist chanting. Photo snap them all and spread them around and see how they like that.                                                                                                                                              1\n",
       "@AnotherBenHong Real cruelty! Real racism! URL                                                                                                                                                                                                                      1\n",
       "@KatieDayXo You're brave! Sometimes I just can't stand the inevitable chatter that follows the truth. The best reaction I got was from a female lawyer who was describing business man culture and when I said I was an escort she simply said \"so you get it\" 😆    1\n",
       "Why are dudes so quick to shit on their \"bros\" for another female? 🤔 there are plenty of females capable of the same shit too. But it's something I'll never understand. 🤷🏼‍♀️                                                                                      1\n",
       "                                                                                                                                                                                                                                                                   ..\n",
       "Personally I want to fuck your dead mom.                                                                                                                                                                                                                            1\n",
       "I've always been into asian girls. Took me many years, but I married a hot asian. Patience and work pays off. Previous FA, now married with kids.                                                                                                                   1\n",
       "god that's so ignorant. wow. \"i'm not a christian so christian morality doesn't influence medical fields\". lmfao come back to me when you have even the tiniest inkling of critical thinking skills                                                                 1\n",
       "Bet you've claimed more head than ISIS.                                                                                                                                                                                                                             1\n",
       "@user whats the ching chong stuff mean                                                                                                                                                                                                                              1\n",
       "Name: count, Length: 65217, dtype: int64"
      ]
     },
     "execution_count": 42,
     "metadata": {},
     "output_type": "execute_result"
    }
   ],
   "source": [
    "merged_dfs['text'].value_counts()"
   ]
  },
  {
   "cell_type": "code",
   "execution_count": 43,
   "metadata": {},
   "outputs": [
    {
     "data": {
      "text/plain": [
       "(65217, 10)"
      ]
     },
     "execution_count": 43,
     "metadata": {},
     "output_type": "execute_result"
    }
   ],
   "source": [
    "merged_dfs.shape"
   ]
  },
  {
   "cell_type": "code",
   "execution_count": 44,
   "metadata": {},
   "outputs": [],
   "source": [
    "merged_dfs = merged_dfs.reset_index(drop=True)\n",
    "merged_dfs['id_new'] = merged_dfs.index + 1"
   ]
  },
  {
   "cell_type": "code",
   "execution_count": 45,
   "metadata": {},
   "outputs": [],
   "source": [
    "d = dtale.show(merged_dfs)\n",
    "d.open_browser()"
   ]
  },
  {
   "cell_type": "code",
   "execution_count": 46,
   "metadata": {},
   "outputs": [
    {
     "name": "stderr",
     "output_type": "stream",
     "text": [
      "2025-03-15 18:06:59,162 - INFO     - Shutdown complete\n"
     ]
    }
   ],
   "source": [
    "d.kill()"
   ]
  },
  {
   "cell_type": "code",
   "execution_count": 47,
   "metadata": {},
   "outputs": [
    {
     "data": {
      "text/plain": [
       "['text',\n",
       " 'original_label',\n",
       " 'original_target',\n",
       " 'original_id',\n",
       " 'platform',\n",
       " 'original_dataset_title',\n",
       " 'label_hatespeech_binary_offensive_not_included',\n",
       " 'label_hatespeech_binary_offensive_included',\n",
       " 'label_normal_offensive_hatespeech',\n",
       " 'extracted_target',\n",
       " 'id_new']"
      ]
     },
     "execution_count": 47,
     "metadata": {},
     "output_type": "execute_result"
    }
   ],
   "source": [
    "merged_dfs.columns.to_list()"
   ]
  },
  {
   "cell_type": "code",
   "execution_count": 48,
   "metadata": {},
   "outputs": [],
   "source": [
    "desired_order = ['id_new', 'text', 'extracted_target', 'label_hatespeech_binary_offensive_not_included',\n",
    "                'label_hatespeech_binary_offensive_included','label_normal_offensive_hatespeech',\n",
    "                'platform', 'original_dataset_title', 'original_id', 'original_label']\n",
    "merged_dfs = merged_dfs[desired_order]"
   ]
  },
  {
   "cell_type": "code",
   "execution_count": 49,
   "metadata": {},
   "outputs": [],
   "source": [
    "d = dtale.show(merged_dfs)\n",
    "d.open_browser()"
   ]
  },
  {
   "cell_type": "code",
   "execution_count": 51,
   "metadata": {},
   "outputs": [
    {
     "name": "stderr",
     "output_type": "stream",
     "text": [
      "2025-03-15 18:07:14,386 - INFO     - Executing shutdown...\n",
      "2025-03-15 18:07:14,387 - INFO     - Not running with the Werkzeug Server, exiting by searching gc for BaseWSGIServer\n"
     ]
    }
   ],
   "source": [
    "d.kill()"
   ]
  },
  {
   "cell_type": "code",
   "execution_count": 52,
   "metadata": {},
   "outputs": [
    {
     "name": "stdout",
     "output_type": "stream",
     "text": [
      "DataFrame saved to /home/takosaga/Projects/master_thesis/data/processed/annotated_and_targeted_hatespeech.pkl\n"
     ]
    }
   ],
   "source": [
    "save_dataframe_as_pickle(merged_dfs, PROCESSED_DATA_DIR.as_posix() + '/annotated_and_targeted_hatespeech.pkl')\n",
    "\n"
   ]
  },
  {
   "cell_type": "code",
   "execution_count": 54,
   "metadata": {},
   "outputs": [],
   "source": [
    "merged_dfs.to_csv(PROCESSED_DATA_DIR.as_posix() + '/annotated_and_targeted_hatespeech.csv', index=False)"
   ]
  }
 ],
 "metadata": {
  "kernelspec": {
   "display_name": "master_thesis",
   "language": "python",
   "name": "python3"
  },
  "language_info": {
   "codemirror_mode": {
    "name": "ipython",
    "version": 3
   },
   "file_extension": ".py",
   "mimetype": "text/x-python",
   "name": "python",
   "nbconvert_exporter": "python",
   "pygments_lexer": "ipython3",
   "version": "3.10.16"
  }
 },
 "nbformat": 4,
 "nbformat_minor": 2
}
