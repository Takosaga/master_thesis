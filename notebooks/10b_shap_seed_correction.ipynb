{
 "cells": [
  {
   "cell_type": "markdown",
   "id": "6a6f623e",
   "metadata": {},
   "source": [
    "# Shap Seed Reruns"
   ]
  },
  {
   "cell_type": "markdown",
   "id": "622f206c",
   "metadata": {},
   "source": [
    "https://lime-ml.readthedocs.io/en/latest/lime.html\n",
    "\n",
    "random_state – an integer or numpy.RandomState that will be used to generate random numbers. If None, the random state will be initialized using the internal numpy seed."
   ]
  },
  {
   "cell_type": "markdown",
   "id": "1df10f9b",
   "metadata": {},
   "source": [
    "https://shap.readthedocs.io/en/latest/generated/shap.Explainer.html\n",
    "\n",
    "seed: None or int\n",
    "seed for reproducibility\n",
    "\n"
   ]
  },
  {
   "cell_type": "markdown",
   "id": "6a53942e",
   "metadata": {},
   "source": [
    "Initial runs had the following to reset seed\n",
    "```\n",
    "def set_seed(seed_value):\n",
    "    \"\"\"Set seed for reproducibility.\"\"\"\n",
    "    random.seed(seed_value)\n",
    "    np.random.seed(seed_value)\n",
    "    torch.manual_seed(seed_value)\n",
    "    if torch.cuda.is_available():\n",
    "        torch.cuda.manual_seed(seed_value)\n",
    "        # Optional: for determinism with CuDNN\n",
    "        torch.backends.cudnn.deterministic = True\n",
    "```\n"
   ]
  },
  {
   "cell_type": "markdown",
   "id": "36520cf9",
   "metadata": {},
   "source": [
    "SHAP may not have had adjusted seed values, so will rerun with seeds"
   ]
  },
  {
   "cell_type": "code",
   "execution_count": null,
   "id": "b9dbd913",
   "metadata": {},
   "outputs": [],
   "source": []
  },
  {
   "cell_type": "code",
   "execution_count": null,
   "id": "5f508a1e",
   "metadata": {},
   "outputs": [],
   "source": []
  },
  {
   "cell_type": "code",
   "execution_count": null,
   "id": "0a8e0a6a",
   "metadata": {},
   "outputs": [],
   "source": []
  }
 ],
 "metadata": {
  "kernelspec": {
   "display_name": "master_thesis",
   "language": "python",
   "name": "python3"
  },
  "language_info": {
   "name": "python",
   "version": "3.10.16"
  }
 },
 "nbformat": 4,
 "nbformat_minor": 5
}
